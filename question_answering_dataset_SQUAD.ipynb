{
  "cells": [
    {
      "cell_type": "markdown",
      "metadata": {
        "id": "view-in-github",
        "colab_type": "text"
      },
      "source": [
        "<a href=\"https://colab.research.google.com/github/nelsongg/information-retrieval-tensorflow/blob/main/question_answering_dataset_SQUAD.ipynb\" target=\"_parent\"><img src=\"https://colab.research.google.com/assets/colab-badge.svg\" alt=\"Open In Colab\"/></a>"
      ]
    },
    {
      "cell_type": "code",
      "execution_count": 1,
      "metadata": {
        "id": "_wOID63_UqrG",
        "colab": {
          "base_uri": "https://localhost:8080/"
        },
        "outputId": "19d60623-cf15-4230-c741-41e6ac5402f9"
      },
      "outputs": [
        {
          "output_type": "stream",
          "name": "stdout",
          "text": [
            "\u001b[K     |████████████████████████████████| 5.8 MB 16.3 MB/s \n",
            "\u001b[K     |████████████████████████████████| 588.3 MB 6.4 kB/s \n",
            "\u001b[K     |████████████████████████████████| 6.0 MB 66.4 MB/s \n",
            "\u001b[K     |████████████████████████████████| 439 kB 58.3 MB/s \n",
            "\u001b[K     |████████████████████████████████| 1.7 MB 45.1 MB/s \n",
            "\u001b[?25hLooking in indexes: https://pypi.org/simple, https://us-python.pkg.dev/colab-wheels/public/simple/\n",
            "Collecting simpleneighbors[annoy]\n",
            "  Downloading simpleneighbors-0.1.0-py2.py3-none-any.whl (12 kB)\n",
            "Collecting annoy>=1.16.0\n",
            "  Downloading annoy-1.17.1.tar.gz (647 kB)\n",
            "\u001b[K     |████████████████████████████████| 647 kB 14.6 MB/s \n",
            "\u001b[?25hBuilding wheels for collected packages: annoy\n",
            "  Building wheel for annoy (setup.py) ... \u001b[?25l\u001b[?25hdone\n",
            "  Created wheel for annoy: filename=annoy-1.17.1-cp37-cp37m-linux_x86_64.whl size=397034 sha256=54114b6d0757c6c1ca05798da4d98e056fc5d857cf4a003da936b1d3713170a7\n",
            "  Stored in directory: /root/.cache/pip/wheels/81/94/bf/92cb0e4fef8770fe9c6df0ba588fca30ab7c306b6048ae8a54\n",
            "Successfully built annoy\n",
            "Installing collected packages: simpleneighbors, annoy\n",
            "Successfully installed annoy-1.17.1 simpleneighbors-0.1.0\n"
          ]
        }
      ],
      "source": [
        "!pip install -q tensorflow_text\n",
        "!pip install simpleneighbors[annoy]\n",
        "!pip install -q nltk # natural language tool kit\n",
        "!pip install -q tqdm # to generate progress bars"
      ]
    },
    {
      "cell_type": "code",
      "execution_count": 2,
      "metadata": {
        "colab": {
          "base_uri": "https://localhost:8080/"
        },
        "id": "l6UK0pqzdono",
        "outputId": "30a7977b-39a9-4a43-f87c-a837bdaa2f28"
      },
      "outputs": [
        {
          "output_type": "stream",
          "name": "stderr",
          "text": [
            "[nltk_data] Downloading package punkt to /root/nltk_data...\n",
            "[nltk_data]   Unzipping tokenizers/punkt.zip.\n"
          ]
        },
        {
          "output_type": "execute_result",
          "data": {
            "text/plain": [
              "True"
            ]
          },
          "metadata": {},
          "execution_count": 2
        }
      ],
      "source": [
        "import json\n",
        "import nltk\n",
        "import os\n",
        "import pprint\n",
        "import random\n",
        "import simpleneighbors\n",
        "import urllib\n",
        "from IPython.display import HTML, display\n",
        "from tqdm.notebook import tqdm\n",
        "import tensorflow.compat.v2 as tf\n",
        "import tensorflow_hub as hub\n",
        "from tensorflow_text import SentencepieceTokenizer\n",
        "nltk.download('punkt')"
      ]
    },
    {
      "cell_type": "markdown",
      "metadata": {
        "id": "6y_VpKXRgmyx"
      },
      "source": [
        "SQUAD Dataset\n",
        "\n",
        "  * Documentation: https://rajpurkar.github.io/SQuAD-explorer/"
      ]
    },
    {
      "cell_type": "code",
      "execution_count": 3,
      "metadata": {
        "id": "3Gbbf_oohzed"
      },
      "outputs": [],
      "source": [
        "SQUAD_url = 'https://rajpurkar.github.io/SQuAD-explorer/dataset/dev-v1.1.json'\n",
        "squad_json = json.load(urllib.request.urlopen(SQUAD_url))"
      ]
    },
    {
      "cell_type": "code",
      "execution_count": 4,
      "metadata": {
        "id": "ods4ndvKgFWX"
      },
      "outputs": [],
      "source": [
        "#squad_json"
      ]
    },
    {
      "cell_type": "code",
      "execution_count": 5,
      "metadata": {
        "id": "Qw8KlK86kV4h"
      },
      "outputs": [],
      "source": [
        "#nltk.tokenize.sent_tokenize('En 1874 su fama llegó al médico español Antonio Palau quien se trasladó desde la ciudad de Tucumán para conocerlas. Marchó después hasta Rosario de La Frontera a adquirir las tierras (arriendo) que pertenecían a Melchora Figueroa y Goyechea de Cornejo. El 1 de abril de 1880 Palau instaló unas sencillas carpas en las faldas del cerro del cual bajan las aguas termominerales, con éxito inmediato. A principios del siglo XX se construyó el lujoso balneario y hotel Termas, que alojó a presidentes y visitantes extranjeros, y cuyo diseño y construcción estuvieron a cargo de los notables arquitectos salmantinos Manuel y José Graña, respectivamente padre e hijo. En 1921, durante la presidencia de Hipólito Yrigoyen, el ferrocarril llegó hasta el lugar. En 1886 visitó las termas Domingo Faustino Sarmiento, ilustre escritor, militar y político argentino, expresidente de la nación argentina. Otros expresidentes que llegaron al lugar fueron Julio Argentino Roca, Nicolás Avellaneda, Raúl Alfonsín y Carlos Saúl Menem. Hotel Termas visto desde el aire. En 1904 el Agua Mineral Palau de Rosario de la Frontera obtiene el 1° Premio en la Exposición Universal de Saint Louis, EE. UU., como la mejor agua mineral del mundo. Como parte de dicha exposición se realizan los primeros Juegos Olímpicos en continente americano. A mediados del siglo XX algunos inmigrantes sijs llegaron desde la región del Panyab en India contratados por las empresas de ferrocarriles que poseían sede en Inglaterra. Ellos dieron origen a la importante población argentina con orígenes sijes que llega a ser hoy un 2% de la cantidad de habitantes de Rosario de la Frontera.')"
      ]
    },
    {
      "cell_type": "code",
      "execution_count": 6,
      "metadata": {
        "id": "7rKZt1NdofgT"
      },
      "outputs": [],
      "source": [
        "from nltk.text import sent_tokenize\n",
        "def extract_sentences(squad):\n",
        "  all_sentences = []\n",
        "  for data in squad['data']:\n",
        "    for paragraph in data['paragraphs']:\n",
        "      sentences = nltk.tokenize.sent_tokenize(paragraph['context'])\n",
        "      #print(sentences)\n",
        "      all_sentences.extend(zip(sentences, [paragraph['context']] * len(sentences)))\n",
        "  return list(set(all_sentences))"
      ]
    },
    {
      "cell_type": "code",
      "execution_count": 7,
      "metadata": {
        "colab": {
          "base_uri": "https://localhost:8080/"
        },
        "id": "SDDgwLZqpCg-",
        "outputId": "66f1560e-4742-4f41-ee0d-2bda7deea44a"
      },
      "outputs": [
        {
          "output_type": "execute_result",
          "data": {
            "text/plain": [
              "10452"
            ]
          },
          "metadata": {},
          "execution_count": 7
        }
      ],
      "source": [
        "sentences = extract_sentences(squad_json)\n",
        "len(sentences)"
      ]
    },
    {
      "cell_type": "code",
      "execution_count": 8,
      "metadata": {
        "id": "9qS1E50GpHV4"
      },
      "outputs": [],
      "source": [
        "#sentences[0:5] #-> we can see the sentence and its context (sentences es una lista de sets, donde cada set essta compuesto por sentence y context)"
      ]
    },
    {
      "cell_type": "code",
      "execution_count": 9,
      "metadata": {
        "id": "xvRnk76utJ05"
      },
      "outputs": [],
      "source": [
        "def extract_questions_answers(squad):\n",
        "  questions_answers = []\n",
        "  for data in squad['data']:\n",
        "    for paragraph in data['paragraphs']:\n",
        "      for qas in paragraph['qas']:\n",
        "        if qas['answers']:\n",
        "          questions_answers.append((qas['question'], qas['answers'][0]['text']))\n",
        "  return list(set(questions_answers))\n"
      ]
    },
    {
      "cell_type": "code",
      "execution_count": 10,
      "metadata": {
        "id": "D16YFLVvxEZf"
      },
      "outputs": [],
      "source": [
        "questions_answers = extract_questions_answers(squad_json)"
      ]
    },
    {
      "cell_type": "code",
      "execution_count": 11,
      "metadata": {
        "colab": {
          "base_uri": "https://localhost:8080/"
        },
        "id": "54e7MjsdxT8C",
        "outputId": "a49306a3-f40c-4267-844c-adcb4d50ded7"
      },
      "outputs": [
        {
          "output_type": "execute_result",
          "data": {
            "text/plain": [
              "10552"
            ]
          },
          "metadata": {},
          "execution_count": 11
        }
      ],
      "source": [
        "len(questions_answers)"
      ]
    },
    {
      "cell_type": "code",
      "execution_count": 12,
      "metadata": {
        "colab": {
          "base_uri": "https://localhost:8080/"
        },
        "id": "U4OzDl76xWHK",
        "outputId": "f720c9b3-0dfe-4e88-a953-6f5ba461c8f9"
      },
      "outputs": [
        {
          "output_type": "execute_result",
          "data": {
            "text/plain": [
              "[('What did water that flowed towards the Pacific have to flow across during the mid-Eocene?',\n",
              "  'Amazonas Basin'),\n",
              " ('What kind of death did Luther say the revolting peasants deserve?',\n",
              "  'in body and soul'),\n",
              " ('When was the Lisbon Treaty established?', '2007'),\n",
              " ('Which British sculptor and a leading member of the New Sculpture movement is represented in the the V&A collection?',\n",
              "  'George Frampton'),\n",
              " ('What does the ctenophora use to swim?', '‘combs’ – groups of cilia'),\n",
              " ('Which bound of time is more difficult to establish?', 'lower bounds'),\n",
              " (\"Which of Luther's hymn was the main one for Advent?\",\n",
              "  'Nun komm, der Heiden Heiland'),\n",
              " ('What does it mean for a disease to be enzootic?', 'commonly present'),\n",
              " ('Where did many Spanish Catholic move after British takeover in Florida?',\n",
              "  'Most went to Cuba,'),\n",
              " ('Where do cryptophyte chloroplasts store starch?',\n",
              "  'in granules found in the periplastid space')]"
            ]
          },
          "metadata": {},
          "execution_count": 12
        }
      ],
      "source": [
        "questions_answers[0:10]"
      ]
    },
    {
      "cell_type": "code",
      "execution_count": 13,
      "metadata": {
        "colab": {
          "base_uri": "https://localhost:8080/"
        },
        "id": "o11-jvmoxfo3",
        "outputId": "1e4262ca-f73f-4d46-c577-39480f33b1ea"
      },
      "outputs": [
        {
          "output_type": "stream",
          "name": "stdout",
          "text": [
            "Sentence and Context\n",
            "\n",
            "Sentence: \n",
            "'Formal teaching may be carried out by paid professionals.'\n",
            "\n",
            "Context:\n",
            "\n",
            "('Teaching may be carried out informally, within the family, which is called '\n",
            " 'homeschooling, or in the wider community. Formal teaching may be carried out '\n",
            " 'by paid professionals. Such professionals enjoy a status in some societies '\n",
            " 'on a par with physicians, lawyers, engineers, and accountants (Chartered or '\n",
            " 'CPA).')\n",
            "\n"
          ]
        }
      ],
      "source": [
        "print('Sentence and Context\\n')\n",
        "sentence = random.choice(sentences)\n",
        "print('Sentence: ')\n",
        "pprint.pprint(sentence[0])\n",
        "print('\\nContext:\\n')\n",
        "pprint.pprint(sentence[1])\n",
        "print()"
      ]
    },
    {
      "cell_type": "markdown",
      "metadata": {
        "id": "H6S-xjUg3HGl"
      },
      "source": [
        "## Build the Index"
      ]
    },
    {
      "cell_type": "code",
      "execution_count": 14,
      "metadata": {
        "id": "iSglSES_2rKc"
      },
      "outputs": [],
      "source": [
        "model_path = 'https://tfhub.dev/google/universal-sentence-encoder-multilingual-qa/3'\n",
        "model = hub.load(model_path)"
      ]
    },
    {
      "cell_type": "code",
      "execution_count": 15,
      "metadata": {
        "colab": {
          "base_uri": "https://localhost:8080/",
          "height": 35
        },
        "id": "3uzcz4fA8IBw",
        "outputId": "02d07517-95d7-4ade-d30e-f2878305a604"
      },
      "outputs": [
        {
          "output_type": "execute_result",
          "data": {
            "text/plain": [
              "'Following this exodus, Huguenots remained in large numbers in only one region of France: the rugged Cévennes region in the south.'"
            ],
            "application/vnd.google.colaboratory.intrinsic+json": {
              "type": "string"
            }
          },
          "metadata": {},
          "execution_count": 15
        }
      ],
      "source": [
        "sentences[0][0]"
      ]
    },
    {
      "cell_type": "code",
      "execution_count": 16,
      "metadata": {
        "colab": {
          "base_uri": "https://localhost:8080/",
          "height": 87
        },
        "id": "8G4PC2Zu8Kcn",
        "outputId": "277dd32a-6b13-4982-d9f3-a58498fbdb2c"
      },
      "outputs": [
        {
          "output_type": "execute_result",
          "data": {
            "text/plain": [
              "'After this, Huguenots (with estimates ranging from 200,000 to 1,000,000) fled to surrounding Protestant countries: England, the Netherlands, Switzerland, Norway, Denmark, and Prussia — whose Calvinist Great Elector Frederick William welcomed them to help rebuild his war-ravaged and underpopulated country. Following this exodus, Huguenots remained in large numbers in only one region of France: the rugged Cévennes region in the south. In the early 18th century, a regional group known as the Camisards who were Huguenots rioted against the Catholic Church in the region, burning churches and killing clergy. It took French troops years to hunt down and destroy all the bands of Camisards, between 1702 and 1709.'"
            ],
            "application/vnd.google.colaboratory.intrinsic+json": {
              "type": "string"
            }
          },
          "metadata": {},
          "execution_count": 16
        }
      ],
      "source": [
        "sentences[0][1]"
      ]
    },
    {
      "cell_type": "code",
      "execution_count": 17,
      "metadata": {
        "colab": {
          "base_uri": "https://localhost:8080/"
        },
        "id": "WclmSZT08NtT",
        "outputId": "22757a48-1614-4d37-f0f8-3a3d3028cb48"
      },
      "outputs": [
        {
          "output_type": "execute_result",
          "data": {
            "text/plain": [
              "{'outputs': <tf.Tensor: shape=(1, 512), dtype=float32, numpy=\n",
              " array([[-4.16966714e-02, -6.02807626e-02, -7.91354999e-02,\n",
              "         -4.01331857e-02, -5.07585183e-02, -5.45654409e-02,\n",
              "         -6.06396757e-02,  1.59942042e-02,  4.69699912e-02,\n",
              "         -5.75715341e-02,  9.98238195e-03, -7.52302958e-03,\n",
              "          1.44282160e-02,  5.47618680e-02, -4.63217646e-02,\n",
              "         -1.06440969e-02, -5.79378288e-03,  5.27780354e-02,\n",
              "         -6.27923310e-02,  7.36972243e-02, -4.64960188e-02,\n",
              "          4.25235964e-02, -4.84484201e-03,  4.05097567e-02,\n",
              "         -6.43942133e-02, -6.51290044e-02, -5.07866824e-03,\n",
              "         -5.50431572e-02,  4.13628621e-03, -5.06071895e-02,\n",
              "         -2.71646697e-02, -1.42645603e-02, -3.73821296e-02,\n",
              "         -4.84618135e-02,  4.59165089e-02, -2.02946309e-02,\n",
              "         -7.64925107e-02,  5.29165305e-02, -6.34871274e-02,\n",
              "          6.04689606e-02,  6.43446147e-02, -5.20597445e-03,\n",
              "         -3.99793033e-03,  1.06739905e-02,  7.00339973e-02,\n",
              "          7.44327605e-02, -1.45145534e-02, -4.00766656e-02,\n",
              "          6.06216316e-04,  3.23082656e-02,  3.93969640e-02,\n",
              "         -8.62009265e-03,  3.82856391e-02, -4.35379297e-02,\n",
              "         -2.27893777e-02, -3.77982818e-02, -3.67712639e-02,\n",
              "         -4.09553014e-02,  1.80738568e-02,  1.18889511e-02,\n",
              "          6.06025234e-02, -7.63864145e-02, -3.66157992e-03,\n",
              "          2.06060018e-02, -6.68429211e-02, -5.72497775e-05,\n",
              "          1.30886389e-02,  6.46947622e-02,  5.35336845e-02,\n",
              "         -7.37935212e-03, -2.98875608e-02,  4.33630832e-02,\n",
              "         -6.79230466e-02, -2.94717774e-02,  1.72590595e-02,\n",
              "          1.60543807e-02,  5.70793785e-02, -2.31540613e-02,\n",
              "         -7.08387718e-02,  4.72066291e-02,  7.03424886e-02,\n",
              "         -3.78365442e-02,  1.50742205e-02, -1.67547837e-02,\n",
              "          6.48701042e-02, -6.56776968e-03, -1.33914333e-02,\n",
              "         -1.67249609e-02, -3.78950126e-02,  6.24386407e-02,\n",
              "          4.09441963e-02,  4.09272909e-02, -5.48475934e-03,\n",
              "         -2.52094474e-02, -1.48769449e-02, -1.81668829e-02,\n",
              "          2.88263764e-02,  6.06167950e-02,  4.81169261e-02,\n",
              "          6.66257972e-03, -3.56197581e-02,  7.33314380e-02,\n",
              "         -3.05964164e-02, -3.59456353e-02,  3.48122045e-03,\n",
              "         -4.68381718e-02, -3.23290862e-02, -6.86389301e-03,\n",
              "         -4.64914218e-02, -4.31478471e-02,  5.34698591e-02,\n",
              "         -2.67771631e-02, -2.85076331e-02, -8.07786267e-03,\n",
              "          6.35157302e-02, -1.66842956e-02, -2.32705548e-02,\n",
              "          7.29294270e-02, -2.45151855e-02, -5.16930930e-02,\n",
              "         -1.70554768e-03, -5.98460361e-02,  2.36101467e-02,\n",
              "         -5.83348721e-02, -1.63008086e-02, -3.90689522e-02,\n",
              "          1.10801002e-02,  6.84735179e-02, -2.31885687e-02,\n",
              "          6.52747080e-02, -5.20412661e-02, -4.77818213e-02,\n",
              "          8.89584888e-03, -6.87870309e-02, -3.26575302e-02,\n",
              "         -2.28906330e-02,  3.64980698e-02, -1.53467348e-02,\n",
              "          5.95261678e-02, -1.05287330e-02,  4.26181741e-02,\n",
              "          5.73352771e-03,  7.12351501e-02, -8.08829665e-02,\n",
              "          1.69354994e-02,  1.12198247e-02,  3.75088602e-02,\n",
              "          6.35272786e-02,  7.01171230e-04,  1.77602693e-02,\n",
              "          4.68033701e-02,  1.04439463e-02,  2.84451805e-02,\n",
              "         -5.53826950e-02,  4.15728278e-02, -3.42852548e-02,\n",
              "         -3.43437791e-02,  1.90566257e-02,  3.99398431e-02,\n",
              "         -3.40170078e-02,  7.00192973e-02,  2.93891840e-02,\n",
              "          5.25034964e-02, -4.23216745e-02,  5.85016012e-02,\n",
              "         -4.85559143e-02,  3.71132456e-02,  3.01807914e-02,\n",
              "          6.09702766e-02, -1.11298310e-02, -4.02756184e-02,\n",
              "         -8.16655383e-02, -1.12995571e-02,  1.89880393e-02,\n",
              "          8.42814967e-02,  2.67557409e-02, -8.40484574e-02,\n",
              "         -4.99363765e-02,  5.35093918e-02,  8.90567340e-03,\n",
              "          1.87902469e-02,  5.84865697e-02,  3.32978740e-02,\n",
              "         -6.90784678e-02, -6.60542920e-02, -4.06050356e-03,\n",
              "          6.81847706e-02,  2.38788091e-02,  3.37255597e-02,\n",
              "          6.68614060e-02, -2.67604124e-02, -8.59724879e-02,\n",
              "          4.73396257e-02, -4.96601462e-02, -2.95026079e-02,\n",
              "          2.80882381e-02,  1.24444542e-02, -4.14980538e-02,\n",
              "          9.77710448e-03,  3.72699499e-02,  6.07827306e-02,\n",
              "         -2.09583025e-02, -2.97354441e-02,  3.40273753e-02,\n",
              "          5.33007234e-02, -5.94189204e-02, -2.29554181e-03,\n",
              "         -4.78772707e-02,  2.96376389e-03,  8.41850117e-02,\n",
              "          6.51386082e-02, -5.46190217e-02, -7.58589804e-02,\n",
              "         -3.32654789e-02,  4.69607785e-02, -4.23357785e-02,\n",
              "         -7.14161173e-02,  5.87693788e-02,  8.04691762e-02,\n",
              "         -1.99421477e-02, -7.34678134e-02,  3.31868455e-02,\n",
              "          2.09762994e-02, -6.73721656e-02, -2.24108007e-02,\n",
              "         -7.23361690e-03,  4.32557240e-02, -7.48282438e-03,\n",
              "          3.47930044e-02,  2.09853072e-02,  2.62544882e-02,\n",
              "          1.46234091e-02,  4.45836969e-02,  4.09926064e-02,\n",
              "          5.65643460e-02,  4.35178876e-02, -2.15429235e-02,\n",
              "          4.45786193e-02, -5.88307083e-02,  4.26993780e-02,\n",
              "         -2.48474982e-02,  2.68039368e-02,  3.16444300e-02,\n",
              "         -2.27873474e-02,  5.32311536e-02, -5.82065955e-02,\n",
              "         -3.01066209e-02,  5.79975266e-03, -3.22045721e-02,\n",
              "         -6.23625983e-03, -8.67093075e-03,  6.68590963e-02,\n",
              "         -4.71110232e-02,  3.27294059e-02, -2.42408831e-02,\n",
              "         -1.89382788e-02,  1.21204695e-02,  4.24802899e-02,\n",
              "         -2.36070771e-02,  5.46546765e-02,  4.22236286e-02,\n",
              "         -1.28474704e-03, -4.99593280e-02,  2.40417547e-03,\n",
              "          1.90202016e-02,  3.09574022e-03,  3.71387824e-02,\n",
              "         -2.30265260e-02,  3.35792489e-02, -4.62135188e-02,\n",
              "          5.67773432e-02,  5.95561601e-02,  4.26519588e-02,\n",
              "          1.51429093e-02, -5.42041734e-02,  1.67322587e-02,\n",
              "         -1.48323225e-02,  7.15068653e-02, -4.31435034e-02,\n",
              "          9.08507034e-03, -7.51529932e-02,  4.47610319e-02,\n",
              "         -4.15010042e-02, -4.50130217e-02,  1.66960787e-02,\n",
              "          4.01418246e-02, -3.89815010e-02, -4.06188406e-02,\n",
              "          1.74943693e-02,  6.96584284e-02, -2.05880292e-02,\n",
              "          5.51884286e-02,  4.07659151e-02,  7.24886358e-02,\n",
              "          3.95268481e-03, -5.02237268e-02,  3.61801907e-02,\n",
              "          1.64316762e-02,  5.21324761e-02,  5.04633598e-02,\n",
              "         -5.14394864e-02,  6.29123300e-02, -5.77639118e-02,\n",
              "          3.18365321e-02,  6.86237682e-03, -3.33337858e-02,\n",
              "          6.26117513e-02, -1.43764019e-02, -3.69808200e-04,\n",
              "          3.54718864e-02, -6.80321380e-02, -2.88546365e-02,\n",
              "         -2.52121706e-02, -4.16485965e-03, -3.01321186e-02,\n",
              "          6.80217668e-02,  5.24373613e-02, -1.98531486e-02,\n",
              "         -9.23876069e-04, -5.06473742e-02, -8.33998099e-02,\n",
              "         -3.49678397e-02,  3.48015726e-02,  4.03835364e-02,\n",
              "          3.43768299e-02,  4.11899276e-02,  7.56836459e-02,\n",
              "         -7.21933693e-02,  1.01883628e-03, -5.07949367e-02,\n",
              "          4.26802970e-02, -1.65349506e-02, -2.74277758e-02,\n",
              "          5.72576113e-02,  3.22700813e-02,  2.61148307e-02,\n",
              "         -1.92280319e-02,  1.88890770e-02,  1.81454215e-02,\n",
              "          3.50161903e-02, -4.48085787e-03,  6.08280636e-02,\n",
              "         -4.60299365e-02,  5.64108267e-02,  1.74489489e-03,\n",
              "          5.09186275e-02, -5.07537760e-02,  5.63491434e-02,\n",
              "         -2.05676593e-02, -5.62474504e-02, -7.22652674e-02,\n",
              "          1.40129067e-02,  6.99898973e-02, -4.80020931e-03,\n",
              "         -7.34222531e-02,  4.30726726e-03,  4.03152145e-02,\n",
              "         -4.11006389e-03,  6.88577653e-04,  5.79786748e-02,\n",
              "         -2.79706866e-02, -4.08329032e-02,  1.38290543e-02,\n",
              "          4.05850708e-02, -5.12032397e-02,  7.28102177e-02,\n",
              "         -6.71355277e-02,  6.72206059e-02, -4.26202193e-02,\n",
              "         -5.14280908e-02, -7.06854463e-02, -6.70512244e-02,\n",
              "         -1.04440227e-02, -6.13496676e-02, -4.30625379e-02,\n",
              "         -4.60042767e-02,  1.13269817e-02, -2.66130245e-03,\n",
              "         -3.09786806e-03, -2.84286235e-02, -1.98871084e-02,\n",
              "         -8.90005846e-03,  5.50327040e-02, -2.85466164e-02,\n",
              "          1.16639426e-02,  3.78051065e-02, -2.45873854e-02,\n",
              "         -1.37257967e-02,  6.06257170e-02, -1.89713817e-02,\n",
              "          5.51824495e-02,  5.05991019e-02,  3.55043188e-02,\n",
              "          8.75984784e-03, -8.27311426e-02, -5.07215336e-02,\n",
              "         -5.24396673e-02, -9.82485339e-03,  5.63300177e-02,\n",
              "          5.21885827e-02,  3.67193855e-02, -1.28221251e-02,\n",
              "         -4.13890220e-02,  8.46962165e-03, -1.45927640e-02,\n",
              "         -4.51955609e-02, -6.44712523e-02,  2.30271388e-02,\n",
              "         -8.55353952e-04,  6.44652396e-02,  1.97261050e-02,\n",
              "          5.75012788e-02, -6.08625896e-02, -4.12808508e-02,\n",
              "         -4.40078266e-02, -1.89264782e-03,  4.30412292e-02,\n",
              "         -5.25635742e-02, -6.00354895e-02,  8.88453946e-02,\n",
              "          4.79285307e-02,  3.57680917e-02,  3.50458287e-02,\n",
              "          2.89718490e-02,  1.30868554e-02,  1.10352123e-02,\n",
              "          4.72649708e-02, -2.21052486e-02,  2.64558960e-02,\n",
              "         -4.68767993e-02, -4.99322414e-02, -1.36959618e-02,\n",
              "          4.75562252e-02, -5.69688119e-02,  4.96904068e-02,\n",
              "         -5.49843572e-02, -7.32464939e-02, -7.79093504e-02,\n",
              "         -6.86913449e-03, -1.34631982e-02, -7.21770003e-02,\n",
              "          2.85919709e-03,  6.55860677e-02, -3.90392356e-03,\n",
              "          7.02344775e-02, -6.54824078e-02,  8.21075514e-02,\n",
              "         -4.00541397e-03,  3.37170027e-02,  4.98879179e-02,\n",
              "          7.42044747e-02, -3.15442011e-02, -2.33285222e-02,\n",
              "         -5.79101667e-02,  2.22331770e-02,  9.03353468e-03,\n",
              "          3.17200348e-02, -5.39668798e-02,  2.01028772e-02,\n",
              "         -6.25262260e-02,  6.31934451e-03, -4.81873471e-03,\n",
              "          3.57145704e-02, -3.17007862e-02,  5.44737056e-02,\n",
              "          1.80172492e-02, -8.24169349e-03, -3.04664765e-03,\n",
              "         -6.67534247e-02,  2.78284233e-02,  3.72101576e-03,\n",
              "         -4.28840481e-02,  4.57118116e-02, -1.13614714e-02,\n",
              "         -1.32506574e-03,  8.35563168e-02, -6.37069270e-02,\n",
              "          5.39981090e-02,  5.08890115e-03,  2.66538635e-02,\n",
              "         -1.73845384e-02,  2.16427855e-02, -2.81390231e-02,\n",
              "         -2.84915362e-02, -8.10388997e-02, -6.94987774e-02,\n",
              "         -4.06125970e-02,  7.63544962e-02,  1.77407172e-02,\n",
              "          8.42048228e-02, -7.71051049e-02,  3.63149680e-02,\n",
              "         -4.06246632e-02, -3.51012610e-02, -5.91275282e-02,\n",
              "          1.96865201e-02,  3.10201757e-02,  4.65046763e-02,\n",
              "         -4.68238182e-02,  1.77099206e-03,  6.25637472e-02,\n",
              "          5.59896827e-02, -5.00979014e-02, -7.57291988e-02,\n",
              "         -3.66195738e-02,  4.17134874e-02, -1.80448294e-02,\n",
              "          4.05764505e-02, -4.81355414e-02,  6.74187168e-02,\n",
              "         -3.07714753e-02, -7.16845095e-02]], dtype=float32)>}"
            ]
          },
          "metadata": {},
          "execution_count": 17
        }
      ],
      "source": [
        "encodings = model.signatures['response_encoder'](input=tf.constant([sentences[0][0]]), context=tf.constant([sentences[0][1]]))\n",
        "encodings"
      ]
    },
    {
      "cell_type": "code",
      "execution_count": 18,
      "metadata": {
        "colab": {
          "base_uri": "https://localhost:8080/"
        },
        "id": "U4h4SaFX9F-e",
        "outputId": "ba5ccbc5-0c20-4030-f10b-85e414015569"
      },
      "outputs": [
        {
          "output_type": "execute_result",
          "data": {
            "text/plain": [
              "<tf.Tensor: shape=(512,), dtype=float32, numpy=\n",
              "array([-4.16966714e-02, -6.02807626e-02, -7.91354999e-02, -4.01331857e-02,\n",
              "       -5.07585183e-02, -5.45654409e-02, -6.06396757e-02,  1.59942042e-02,\n",
              "        4.69699912e-02, -5.75715341e-02,  9.98238195e-03, -7.52302958e-03,\n",
              "        1.44282160e-02,  5.47618680e-02, -4.63217646e-02, -1.06440969e-02,\n",
              "       -5.79378288e-03,  5.27780354e-02, -6.27923310e-02,  7.36972243e-02,\n",
              "       -4.64960188e-02,  4.25235964e-02, -4.84484201e-03,  4.05097567e-02,\n",
              "       -6.43942133e-02, -6.51290044e-02, -5.07866824e-03, -5.50431572e-02,\n",
              "        4.13628621e-03, -5.06071895e-02, -2.71646697e-02, -1.42645603e-02,\n",
              "       -3.73821296e-02, -4.84618135e-02,  4.59165089e-02, -2.02946309e-02,\n",
              "       -7.64925107e-02,  5.29165305e-02, -6.34871274e-02,  6.04689606e-02,\n",
              "        6.43446147e-02, -5.20597445e-03, -3.99793033e-03,  1.06739905e-02,\n",
              "        7.00339973e-02,  7.44327605e-02, -1.45145534e-02, -4.00766656e-02,\n",
              "        6.06216316e-04,  3.23082656e-02,  3.93969640e-02, -8.62009265e-03,\n",
              "        3.82856391e-02, -4.35379297e-02, -2.27893777e-02, -3.77982818e-02,\n",
              "       -3.67712639e-02, -4.09553014e-02,  1.80738568e-02,  1.18889511e-02,\n",
              "        6.06025234e-02, -7.63864145e-02, -3.66157992e-03,  2.06060018e-02,\n",
              "       -6.68429211e-02, -5.72497775e-05,  1.30886389e-02,  6.46947622e-02,\n",
              "        5.35336845e-02, -7.37935212e-03, -2.98875608e-02,  4.33630832e-02,\n",
              "       -6.79230466e-02, -2.94717774e-02,  1.72590595e-02,  1.60543807e-02,\n",
              "        5.70793785e-02, -2.31540613e-02, -7.08387718e-02,  4.72066291e-02,\n",
              "        7.03424886e-02, -3.78365442e-02,  1.50742205e-02, -1.67547837e-02,\n",
              "        6.48701042e-02, -6.56776968e-03, -1.33914333e-02, -1.67249609e-02,\n",
              "       -3.78950126e-02,  6.24386407e-02,  4.09441963e-02,  4.09272909e-02,\n",
              "       -5.48475934e-03, -2.52094474e-02, -1.48769449e-02, -1.81668829e-02,\n",
              "        2.88263764e-02,  6.06167950e-02,  4.81169261e-02,  6.66257972e-03,\n",
              "       -3.56197581e-02,  7.33314380e-02, -3.05964164e-02, -3.59456353e-02,\n",
              "        3.48122045e-03, -4.68381718e-02, -3.23290862e-02, -6.86389301e-03,\n",
              "       -4.64914218e-02, -4.31478471e-02,  5.34698591e-02, -2.67771631e-02,\n",
              "       -2.85076331e-02, -8.07786267e-03,  6.35157302e-02, -1.66842956e-02,\n",
              "       -2.32705548e-02,  7.29294270e-02, -2.45151855e-02, -5.16930930e-02,\n",
              "       -1.70554768e-03, -5.98460361e-02,  2.36101467e-02, -5.83348721e-02,\n",
              "       -1.63008086e-02, -3.90689522e-02,  1.10801002e-02,  6.84735179e-02,\n",
              "       -2.31885687e-02,  6.52747080e-02, -5.20412661e-02, -4.77818213e-02,\n",
              "        8.89584888e-03, -6.87870309e-02, -3.26575302e-02, -2.28906330e-02,\n",
              "        3.64980698e-02, -1.53467348e-02,  5.95261678e-02, -1.05287330e-02,\n",
              "        4.26181741e-02,  5.73352771e-03,  7.12351501e-02, -8.08829665e-02,\n",
              "        1.69354994e-02,  1.12198247e-02,  3.75088602e-02,  6.35272786e-02,\n",
              "        7.01171230e-04,  1.77602693e-02,  4.68033701e-02,  1.04439463e-02,\n",
              "        2.84451805e-02, -5.53826950e-02,  4.15728278e-02, -3.42852548e-02,\n",
              "       -3.43437791e-02,  1.90566257e-02,  3.99398431e-02, -3.40170078e-02,\n",
              "        7.00192973e-02,  2.93891840e-02,  5.25034964e-02, -4.23216745e-02,\n",
              "        5.85016012e-02, -4.85559143e-02,  3.71132456e-02,  3.01807914e-02,\n",
              "        6.09702766e-02, -1.11298310e-02, -4.02756184e-02, -8.16655383e-02,\n",
              "       -1.12995571e-02,  1.89880393e-02,  8.42814967e-02,  2.67557409e-02,\n",
              "       -8.40484574e-02, -4.99363765e-02,  5.35093918e-02,  8.90567340e-03,\n",
              "        1.87902469e-02,  5.84865697e-02,  3.32978740e-02, -6.90784678e-02,\n",
              "       -6.60542920e-02, -4.06050356e-03,  6.81847706e-02,  2.38788091e-02,\n",
              "        3.37255597e-02,  6.68614060e-02, -2.67604124e-02, -8.59724879e-02,\n",
              "        4.73396257e-02, -4.96601462e-02, -2.95026079e-02,  2.80882381e-02,\n",
              "        1.24444542e-02, -4.14980538e-02,  9.77710448e-03,  3.72699499e-02,\n",
              "        6.07827306e-02, -2.09583025e-02, -2.97354441e-02,  3.40273753e-02,\n",
              "        5.33007234e-02, -5.94189204e-02, -2.29554181e-03, -4.78772707e-02,\n",
              "        2.96376389e-03,  8.41850117e-02,  6.51386082e-02, -5.46190217e-02,\n",
              "       -7.58589804e-02, -3.32654789e-02,  4.69607785e-02, -4.23357785e-02,\n",
              "       -7.14161173e-02,  5.87693788e-02,  8.04691762e-02, -1.99421477e-02,\n",
              "       -7.34678134e-02,  3.31868455e-02,  2.09762994e-02, -6.73721656e-02,\n",
              "       -2.24108007e-02, -7.23361690e-03,  4.32557240e-02, -7.48282438e-03,\n",
              "        3.47930044e-02,  2.09853072e-02,  2.62544882e-02,  1.46234091e-02,\n",
              "        4.45836969e-02,  4.09926064e-02,  5.65643460e-02,  4.35178876e-02,\n",
              "       -2.15429235e-02,  4.45786193e-02, -5.88307083e-02,  4.26993780e-02,\n",
              "       -2.48474982e-02,  2.68039368e-02,  3.16444300e-02, -2.27873474e-02,\n",
              "        5.32311536e-02, -5.82065955e-02, -3.01066209e-02,  5.79975266e-03,\n",
              "       -3.22045721e-02, -6.23625983e-03, -8.67093075e-03,  6.68590963e-02,\n",
              "       -4.71110232e-02,  3.27294059e-02, -2.42408831e-02, -1.89382788e-02,\n",
              "        1.21204695e-02,  4.24802899e-02, -2.36070771e-02,  5.46546765e-02,\n",
              "        4.22236286e-02, -1.28474704e-03, -4.99593280e-02,  2.40417547e-03,\n",
              "        1.90202016e-02,  3.09574022e-03,  3.71387824e-02, -2.30265260e-02,\n",
              "        3.35792489e-02, -4.62135188e-02,  5.67773432e-02,  5.95561601e-02,\n",
              "        4.26519588e-02,  1.51429093e-02, -5.42041734e-02,  1.67322587e-02,\n",
              "       -1.48323225e-02,  7.15068653e-02, -4.31435034e-02,  9.08507034e-03,\n",
              "       -7.51529932e-02,  4.47610319e-02, -4.15010042e-02, -4.50130217e-02,\n",
              "        1.66960787e-02,  4.01418246e-02, -3.89815010e-02, -4.06188406e-02,\n",
              "        1.74943693e-02,  6.96584284e-02, -2.05880292e-02,  5.51884286e-02,\n",
              "        4.07659151e-02,  7.24886358e-02,  3.95268481e-03, -5.02237268e-02,\n",
              "        3.61801907e-02,  1.64316762e-02,  5.21324761e-02,  5.04633598e-02,\n",
              "       -5.14394864e-02,  6.29123300e-02, -5.77639118e-02,  3.18365321e-02,\n",
              "        6.86237682e-03, -3.33337858e-02,  6.26117513e-02, -1.43764019e-02,\n",
              "       -3.69808200e-04,  3.54718864e-02, -6.80321380e-02, -2.88546365e-02,\n",
              "       -2.52121706e-02, -4.16485965e-03, -3.01321186e-02,  6.80217668e-02,\n",
              "        5.24373613e-02, -1.98531486e-02, -9.23876069e-04, -5.06473742e-02,\n",
              "       -8.33998099e-02, -3.49678397e-02,  3.48015726e-02,  4.03835364e-02,\n",
              "        3.43768299e-02,  4.11899276e-02,  7.56836459e-02, -7.21933693e-02,\n",
              "        1.01883628e-03, -5.07949367e-02,  4.26802970e-02, -1.65349506e-02,\n",
              "       -2.74277758e-02,  5.72576113e-02,  3.22700813e-02,  2.61148307e-02,\n",
              "       -1.92280319e-02,  1.88890770e-02,  1.81454215e-02,  3.50161903e-02,\n",
              "       -4.48085787e-03,  6.08280636e-02, -4.60299365e-02,  5.64108267e-02,\n",
              "        1.74489489e-03,  5.09186275e-02, -5.07537760e-02,  5.63491434e-02,\n",
              "       -2.05676593e-02, -5.62474504e-02, -7.22652674e-02,  1.40129067e-02,\n",
              "        6.99898973e-02, -4.80020931e-03, -7.34222531e-02,  4.30726726e-03,\n",
              "        4.03152145e-02, -4.11006389e-03,  6.88577653e-04,  5.79786748e-02,\n",
              "       -2.79706866e-02, -4.08329032e-02,  1.38290543e-02,  4.05850708e-02,\n",
              "       -5.12032397e-02,  7.28102177e-02, -6.71355277e-02,  6.72206059e-02,\n",
              "       -4.26202193e-02, -5.14280908e-02, -7.06854463e-02, -6.70512244e-02,\n",
              "       -1.04440227e-02, -6.13496676e-02, -4.30625379e-02, -4.60042767e-02,\n",
              "        1.13269817e-02, -2.66130245e-03, -3.09786806e-03, -2.84286235e-02,\n",
              "       -1.98871084e-02, -8.90005846e-03,  5.50327040e-02, -2.85466164e-02,\n",
              "        1.16639426e-02,  3.78051065e-02, -2.45873854e-02, -1.37257967e-02,\n",
              "        6.06257170e-02, -1.89713817e-02,  5.51824495e-02,  5.05991019e-02,\n",
              "        3.55043188e-02,  8.75984784e-03, -8.27311426e-02, -5.07215336e-02,\n",
              "       -5.24396673e-02, -9.82485339e-03,  5.63300177e-02,  5.21885827e-02,\n",
              "        3.67193855e-02, -1.28221251e-02, -4.13890220e-02,  8.46962165e-03,\n",
              "       -1.45927640e-02, -4.51955609e-02, -6.44712523e-02,  2.30271388e-02,\n",
              "       -8.55353952e-04,  6.44652396e-02,  1.97261050e-02,  5.75012788e-02,\n",
              "       -6.08625896e-02, -4.12808508e-02, -4.40078266e-02, -1.89264782e-03,\n",
              "        4.30412292e-02, -5.25635742e-02, -6.00354895e-02,  8.88453946e-02,\n",
              "        4.79285307e-02,  3.57680917e-02,  3.50458287e-02,  2.89718490e-02,\n",
              "        1.30868554e-02,  1.10352123e-02,  4.72649708e-02, -2.21052486e-02,\n",
              "        2.64558960e-02, -4.68767993e-02, -4.99322414e-02, -1.36959618e-02,\n",
              "        4.75562252e-02, -5.69688119e-02,  4.96904068e-02, -5.49843572e-02,\n",
              "       -7.32464939e-02, -7.79093504e-02, -6.86913449e-03, -1.34631982e-02,\n",
              "       -7.21770003e-02,  2.85919709e-03,  6.55860677e-02, -3.90392356e-03,\n",
              "        7.02344775e-02, -6.54824078e-02,  8.21075514e-02, -4.00541397e-03,\n",
              "        3.37170027e-02,  4.98879179e-02,  7.42044747e-02, -3.15442011e-02,\n",
              "       -2.33285222e-02, -5.79101667e-02,  2.22331770e-02,  9.03353468e-03,\n",
              "        3.17200348e-02, -5.39668798e-02,  2.01028772e-02, -6.25262260e-02,\n",
              "        6.31934451e-03, -4.81873471e-03,  3.57145704e-02, -3.17007862e-02,\n",
              "        5.44737056e-02,  1.80172492e-02, -8.24169349e-03, -3.04664765e-03,\n",
              "       -6.67534247e-02,  2.78284233e-02,  3.72101576e-03, -4.28840481e-02,\n",
              "        4.57118116e-02, -1.13614714e-02, -1.32506574e-03,  8.35563168e-02,\n",
              "       -6.37069270e-02,  5.39981090e-02,  5.08890115e-03,  2.66538635e-02,\n",
              "       -1.73845384e-02,  2.16427855e-02, -2.81390231e-02, -2.84915362e-02,\n",
              "       -8.10388997e-02, -6.94987774e-02, -4.06125970e-02,  7.63544962e-02,\n",
              "        1.77407172e-02,  8.42048228e-02, -7.71051049e-02,  3.63149680e-02,\n",
              "       -4.06246632e-02, -3.51012610e-02, -5.91275282e-02,  1.96865201e-02,\n",
              "        3.10201757e-02,  4.65046763e-02, -4.68238182e-02,  1.77099206e-03,\n",
              "        6.25637472e-02,  5.59896827e-02, -5.00979014e-02, -7.57291988e-02,\n",
              "       -3.66195738e-02,  4.17134874e-02, -1.80448294e-02,  4.05764505e-02,\n",
              "       -4.81355414e-02,  6.74187168e-02, -3.07714753e-02, -7.16845095e-02],\n",
              "      dtype=float32)>"
            ]
          },
          "metadata": {},
          "execution_count": 18
        }
      ],
      "source": [
        "encodings['outputs'][0]"
      ]
    },
    {
      "cell_type": "code",
      "execution_count": 19,
      "metadata": {
        "colab": {
          "base_uri": "https://localhost:8080/"
        },
        "id": "RhAM9z9X-tJY",
        "outputId": "55e47a16-57a2-4612-eaa1-2a26c6d30239"
      },
      "outputs": [
        {
          "output_type": "execute_result",
          "data": {
            "text/plain": [
              "512"
            ]
          },
          "metadata": {},
          "execution_count": 19
        }
      ],
      "source": [
        "len(encodings['outputs'][0])"
      ]
    },
    {
      "cell_type": "code",
      "execution_count": 20,
      "metadata": {
        "id": "R8DC2lP4-01V"
      },
      "outputs": [],
      "source": [
        "index = simpleneighbors.SimpleNeighbors(len(encodings['outputs'][0]), metric='angular')"
      ]
    },
    {
      "cell_type": "code",
      "execution_count": 21,
      "metadata": {
        "colab": {
          "base_uri": "https://localhost:8080/"
        },
        "id": "R_oG9xao_za8",
        "outputId": "e5f12934-79b0-45cf-94fb-83003261abe7"
      },
      "outputs": [
        {
          "output_type": "execute_result",
          "data": {
            "text/plain": [
              "104"
            ]
          },
          "metadata": {},
          "execution_count": 21
        }
      ],
      "source": [
        "batch_size = 100\n",
        "slices = zip(*(iter(sentences),) * batch_size)\n",
        "num_batches = int(len(sentences) / batch_size)\n",
        "num_batches"
      ]
    },
    {
      "cell_type": "code",
      "execution_count": 22,
      "metadata": {
        "colab": {
          "base_uri": "https://localhost:8080/",
          "height": 49,
          "referenced_widgets": [
            "3db6ad4592124322825184b10f54b0ba",
            "326eebbcac82488aaa428687ccfef1b5",
            "bc0feb59248541568f13f67cd62c482d",
            "05113955924e4ed7a381f88504088dce",
            "824bc681daf5477c87b075b9d7d9d6e5",
            "94ece68f402d49f085eff8e807b47018",
            "cdbe5c0ed85b48ac97984e3cc2ad3c6e",
            "470d359b14874a25af724c2a7a767012",
            "57a1b89988634467a74c95b35ff60a2d",
            "afb57bcacf444d689e63fb92fe14fccc",
            "0f75460d754941128f5a8b8ddda43135"
          ]
        },
        "id": "i-qMKYfcAz3y",
        "outputId": "99875174-084f-43be-90ae-fb28485c4c81"
      },
      "outputs": [
        {
          "output_type": "display_data",
          "data": {
            "text/plain": [
              "  0%|          | 0/104 [00:00<?, ?it/s]"
            ],
            "application/vnd.jupyter.widget-view+json": {
              "version_major": 2,
              "version_minor": 0,
              "model_id": "3db6ad4592124322825184b10f54b0ba"
            }
          },
          "metadata": {}
        }
      ],
      "source": [
        "for s in tqdm(slices, total=num_batches):\n",
        "  sentence_batch = list([r for r, c in s])\n",
        "  context_batch = list([c for r, c in s])\n",
        "  encodings = model.signatures['response_encoder'](input=tf.constant(sentence_batch), context=tf.constant(context_batch))\n",
        "  for batch_index, batch in enumerate(sentence_batch):\n",
        "    index.add_one(batch, encodings['outputs'][batch_index])\n",
        "index.build()"
      ]
    },
    {
      "cell_type": "markdown",
      "source": [
        "## Visualizing the results"
      ],
      "metadata": {
        "id": "OehK0mGdP6qR"
      }
    },
    {
      "cell_type": "code",
      "execution_count": 23,
      "metadata": {
        "id": "WY8U5qIHDM7a",
        "colab": {
          "base_uri": "https://localhost:8080/"
        },
        "outputId": "729b88e5-a3d3-4514-894a-e77de086efe0"
      },
      "outputs": [
        {
          "output_type": "stream",
          "name": "stdout",
          "text": [
            "('What kind of cell wall do cyanobacteria have?', 'peptidoglycan')\n"
          ]
        }
      ],
      "source": [
        "number_of_results = 10\n",
        "question_answer = random.choice(questions_answers)\n",
        "print(question_answer)"
      ]
    },
    {
      "cell_type": "code",
      "source": [
        "def show_results(question, answer):\n",
        "  embedding = model.signatures['question_encoder'](tf.constant([question]))['outputs'][0]\n",
        "  #print(embedding)\n",
        "  search_results = index.nearest(embedding, n = number_of_results)\n",
        "\n",
        "  formatted_result = '''\n",
        "    <p>Random question selected from SQUAD</p>\n",
        "    <p><b>%s</b></p>\n",
        "    <p>Answer:</p>\n",
        "    <p><b>%s</b></p>\n",
        "  ''' % (question, answer)\n",
        "\n",
        "  formatted_result += '<ol>'\n",
        "  for s in search_results:\n",
        "    formatted_result += '<li>'\n",
        "    formatted_result += s\n",
        "    formatted_result += '</li>'\n",
        "  formatted_result += '</ol>'\n",
        "\n",
        "  display(HTML(formatted_result))"
      ],
      "metadata": {
        "id": "NPNF1vpIQAIE"
      },
      "execution_count": 24,
      "outputs": []
    },
    {
      "cell_type": "code",
      "source": [
        "show_results(question_answer[0], question_answer[1])"
      ],
      "metadata": {
        "colab": {
          "base_uri": "https://localhost:8080/",
          "height": 312
        },
        "id": "lyKqGQMzTB0Q",
        "outputId": "cd610528-8c59-43fe-e95d-ca133769054f"
      },
      "execution_count": 25,
      "outputs": [
        {
          "output_type": "display_data",
          "data": {
            "text/plain": [
              "<IPython.core.display.HTML object>"
            ],
            "text/html": [
              "\n",
              "    <p>Random question selected from SQUAD</p>\n",
              "    <p><b>What kind of cell wall do cyanobacteria have?</b></p>\n",
              "    <p>Answer:</p>\n",
              "    <p><b>peptidoglycan</b></p>\n",
              "  <ol><li>Cyanobacteria also contain a peptidoglycan cell wall, which is thicker than in other gram-negative bacteria, and which is located between their two cell membranes.</li><li>Glaucophytes have chloroplasts that retain a peptidoglycan wall between their double membranes, like their cyanobacterial parent.</li><li>Paulinella cells contain one or two sausage shaped blue-green photosynthesizing structures called chromatophores, descended from the cyanobacterium Synechococcus.</li><li>In some algae, the chloroplast takes up most of the cell, with pockets for the nucleus and other organelles (for example some species of Chlorella have a cup-shaped chloroplast that occupies much of the cell).</li><li>Chloroplasts, like mitochondria, contain their own DNA, which is thought to be inherited from their ancestor—a photosynthetic cyanobacterium that was engulfed by an early eukaryotic cell.</li><li>They are a diverse phylum of bacteria capable of carrying out photosynthesis, and are gram-negative, meaning that they have two cell membranes.</li><li>Like cyanobacteria, glaucophyte chloroplast thylakoids are studded with light collecting structures called phycobilisomes.</li><li>Like chloroplasts, they have thylakoids within.</li><li>For this reason, glaucophyte chloroplasts are also known as muroplasts.</li><li>Some dinophytes, like Kryptoperidinium and Durinskia have a diatom (heterokontophyte) derived chloroplast.</li></ol>"
            ]
          },
          "metadata": {}
        }
      ]
    },
    {
      "cell_type": "code",
      "source": [],
      "metadata": {
        "id": "CcNrLu9TTEw2"
      },
      "execution_count": null,
      "outputs": []
    }
  ],
  "metadata": {
    "colab": {
      "provenance": [],
      "authorship_tag": "ABX9TyNItqtdUtBz3lKOkgW0ZcNK",
      "include_colab_link": true
    },
    "kernelspec": {
      "display_name": "Python 3",
      "name": "python3"
    },
    "language_info": {
      "name": "python"
    },
    "widgets": {
      "application/vnd.jupyter.widget-state+json": {
        "3db6ad4592124322825184b10f54b0ba": {
          "model_module": "@jupyter-widgets/controls",
          "model_name": "HBoxModel",
          "model_module_version": "1.5.0",
          "state": {
            "_dom_classes": [],
            "_model_module": "@jupyter-widgets/controls",
            "_model_module_version": "1.5.0",
            "_model_name": "HBoxModel",
            "_view_count": null,
            "_view_module": "@jupyter-widgets/controls",
            "_view_module_version": "1.5.0",
            "_view_name": "HBoxView",
            "box_style": "",
            "children": [
              "IPY_MODEL_326eebbcac82488aaa428687ccfef1b5",
              "IPY_MODEL_bc0feb59248541568f13f67cd62c482d",
              "IPY_MODEL_05113955924e4ed7a381f88504088dce"
            ],
            "layout": "IPY_MODEL_824bc681daf5477c87b075b9d7d9d6e5"
          }
        },
        "326eebbcac82488aaa428687ccfef1b5": {
          "model_module": "@jupyter-widgets/controls",
          "model_name": "HTMLModel",
          "model_module_version": "1.5.0",
          "state": {
            "_dom_classes": [],
            "_model_module": "@jupyter-widgets/controls",
            "_model_module_version": "1.5.0",
            "_model_name": "HTMLModel",
            "_view_count": null,
            "_view_module": "@jupyter-widgets/controls",
            "_view_module_version": "1.5.0",
            "_view_name": "HTMLView",
            "description": "",
            "description_tooltip": null,
            "layout": "IPY_MODEL_94ece68f402d49f085eff8e807b47018",
            "placeholder": "​",
            "style": "IPY_MODEL_cdbe5c0ed85b48ac97984e3cc2ad3c6e",
            "value": "100%"
          }
        },
        "bc0feb59248541568f13f67cd62c482d": {
          "model_module": "@jupyter-widgets/controls",
          "model_name": "FloatProgressModel",
          "model_module_version": "1.5.0",
          "state": {
            "_dom_classes": [],
            "_model_module": "@jupyter-widgets/controls",
            "_model_module_version": "1.5.0",
            "_model_name": "FloatProgressModel",
            "_view_count": null,
            "_view_module": "@jupyter-widgets/controls",
            "_view_module_version": "1.5.0",
            "_view_name": "ProgressView",
            "bar_style": "success",
            "description": "",
            "description_tooltip": null,
            "layout": "IPY_MODEL_470d359b14874a25af724c2a7a767012",
            "max": 104,
            "min": 0,
            "orientation": "horizontal",
            "style": "IPY_MODEL_57a1b89988634467a74c95b35ff60a2d",
            "value": 104
          }
        },
        "05113955924e4ed7a381f88504088dce": {
          "model_module": "@jupyter-widgets/controls",
          "model_name": "HTMLModel",
          "model_module_version": "1.5.0",
          "state": {
            "_dom_classes": [],
            "_model_module": "@jupyter-widgets/controls",
            "_model_module_version": "1.5.0",
            "_model_name": "HTMLModel",
            "_view_count": null,
            "_view_module": "@jupyter-widgets/controls",
            "_view_module_version": "1.5.0",
            "_view_name": "HTMLView",
            "description": "",
            "description_tooltip": null,
            "layout": "IPY_MODEL_afb57bcacf444d689e63fb92fe14fccc",
            "placeholder": "​",
            "style": "IPY_MODEL_0f75460d754941128f5a8b8ddda43135",
            "value": " 104/104 [45:36&lt;00:00, 25.64s/it]"
          }
        },
        "824bc681daf5477c87b075b9d7d9d6e5": {
          "model_module": "@jupyter-widgets/base",
          "model_name": "LayoutModel",
          "model_module_version": "1.2.0",
          "state": {
            "_model_module": "@jupyter-widgets/base",
            "_model_module_version": "1.2.0",
            "_model_name": "LayoutModel",
            "_view_count": null,
            "_view_module": "@jupyter-widgets/base",
            "_view_module_version": "1.2.0",
            "_view_name": "LayoutView",
            "align_content": null,
            "align_items": null,
            "align_self": null,
            "border": null,
            "bottom": null,
            "display": null,
            "flex": null,
            "flex_flow": null,
            "grid_area": null,
            "grid_auto_columns": null,
            "grid_auto_flow": null,
            "grid_auto_rows": null,
            "grid_column": null,
            "grid_gap": null,
            "grid_row": null,
            "grid_template_areas": null,
            "grid_template_columns": null,
            "grid_template_rows": null,
            "height": null,
            "justify_content": null,
            "justify_items": null,
            "left": null,
            "margin": null,
            "max_height": null,
            "max_width": null,
            "min_height": null,
            "min_width": null,
            "object_fit": null,
            "object_position": null,
            "order": null,
            "overflow": null,
            "overflow_x": null,
            "overflow_y": null,
            "padding": null,
            "right": null,
            "top": null,
            "visibility": null,
            "width": null
          }
        },
        "94ece68f402d49f085eff8e807b47018": {
          "model_module": "@jupyter-widgets/base",
          "model_name": "LayoutModel",
          "model_module_version": "1.2.0",
          "state": {
            "_model_module": "@jupyter-widgets/base",
            "_model_module_version": "1.2.0",
            "_model_name": "LayoutModel",
            "_view_count": null,
            "_view_module": "@jupyter-widgets/base",
            "_view_module_version": "1.2.0",
            "_view_name": "LayoutView",
            "align_content": null,
            "align_items": null,
            "align_self": null,
            "border": null,
            "bottom": null,
            "display": null,
            "flex": null,
            "flex_flow": null,
            "grid_area": null,
            "grid_auto_columns": null,
            "grid_auto_flow": null,
            "grid_auto_rows": null,
            "grid_column": null,
            "grid_gap": null,
            "grid_row": null,
            "grid_template_areas": null,
            "grid_template_columns": null,
            "grid_template_rows": null,
            "height": null,
            "justify_content": null,
            "justify_items": null,
            "left": null,
            "margin": null,
            "max_height": null,
            "max_width": null,
            "min_height": null,
            "min_width": null,
            "object_fit": null,
            "object_position": null,
            "order": null,
            "overflow": null,
            "overflow_x": null,
            "overflow_y": null,
            "padding": null,
            "right": null,
            "top": null,
            "visibility": null,
            "width": null
          }
        },
        "cdbe5c0ed85b48ac97984e3cc2ad3c6e": {
          "model_module": "@jupyter-widgets/controls",
          "model_name": "DescriptionStyleModel",
          "model_module_version": "1.5.0",
          "state": {
            "_model_module": "@jupyter-widgets/controls",
            "_model_module_version": "1.5.0",
            "_model_name": "DescriptionStyleModel",
            "_view_count": null,
            "_view_module": "@jupyter-widgets/base",
            "_view_module_version": "1.2.0",
            "_view_name": "StyleView",
            "description_width": ""
          }
        },
        "470d359b14874a25af724c2a7a767012": {
          "model_module": "@jupyter-widgets/base",
          "model_name": "LayoutModel",
          "model_module_version": "1.2.0",
          "state": {
            "_model_module": "@jupyter-widgets/base",
            "_model_module_version": "1.2.0",
            "_model_name": "LayoutModel",
            "_view_count": null,
            "_view_module": "@jupyter-widgets/base",
            "_view_module_version": "1.2.0",
            "_view_name": "LayoutView",
            "align_content": null,
            "align_items": null,
            "align_self": null,
            "border": null,
            "bottom": null,
            "display": null,
            "flex": null,
            "flex_flow": null,
            "grid_area": null,
            "grid_auto_columns": null,
            "grid_auto_flow": null,
            "grid_auto_rows": null,
            "grid_column": null,
            "grid_gap": null,
            "grid_row": null,
            "grid_template_areas": null,
            "grid_template_columns": null,
            "grid_template_rows": null,
            "height": null,
            "justify_content": null,
            "justify_items": null,
            "left": null,
            "margin": null,
            "max_height": null,
            "max_width": null,
            "min_height": null,
            "min_width": null,
            "object_fit": null,
            "object_position": null,
            "order": null,
            "overflow": null,
            "overflow_x": null,
            "overflow_y": null,
            "padding": null,
            "right": null,
            "top": null,
            "visibility": null,
            "width": null
          }
        },
        "57a1b89988634467a74c95b35ff60a2d": {
          "model_module": "@jupyter-widgets/controls",
          "model_name": "ProgressStyleModel",
          "model_module_version": "1.5.0",
          "state": {
            "_model_module": "@jupyter-widgets/controls",
            "_model_module_version": "1.5.0",
            "_model_name": "ProgressStyleModel",
            "_view_count": null,
            "_view_module": "@jupyter-widgets/base",
            "_view_module_version": "1.2.0",
            "_view_name": "StyleView",
            "bar_color": null,
            "description_width": ""
          }
        },
        "afb57bcacf444d689e63fb92fe14fccc": {
          "model_module": "@jupyter-widgets/base",
          "model_name": "LayoutModel",
          "model_module_version": "1.2.0",
          "state": {
            "_model_module": "@jupyter-widgets/base",
            "_model_module_version": "1.2.0",
            "_model_name": "LayoutModel",
            "_view_count": null,
            "_view_module": "@jupyter-widgets/base",
            "_view_module_version": "1.2.0",
            "_view_name": "LayoutView",
            "align_content": null,
            "align_items": null,
            "align_self": null,
            "border": null,
            "bottom": null,
            "display": null,
            "flex": null,
            "flex_flow": null,
            "grid_area": null,
            "grid_auto_columns": null,
            "grid_auto_flow": null,
            "grid_auto_rows": null,
            "grid_column": null,
            "grid_gap": null,
            "grid_row": null,
            "grid_template_areas": null,
            "grid_template_columns": null,
            "grid_template_rows": null,
            "height": null,
            "justify_content": null,
            "justify_items": null,
            "left": null,
            "margin": null,
            "max_height": null,
            "max_width": null,
            "min_height": null,
            "min_width": null,
            "object_fit": null,
            "object_position": null,
            "order": null,
            "overflow": null,
            "overflow_x": null,
            "overflow_y": null,
            "padding": null,
            "right": null,
            "top": null,
            "visibility": null,
            "width": null
          }
        },
        "0f75460d754941128f5a8b8ddda43135": {
          "model_module": "@jupyter-widgets/controls",
          "model_name": "DescriptionStyleModel",
          "model_module_version": "1.5.0",
          "state": {
            "_model_module": "@jupyter-widgets/controls",
            "_model_module_version": "1.5.0",
            "_model_name": "DescriptionStyleModel",
            "_view_count": null,
            "_view_module": "@jupyter-widgets/base",
            "_view_module_version": "1.2.0",
            "_view_name": "StyleView",
            "description_width": ""
          }
        }
      }
    },
    "accelerator": "GPU",
    "gpuClass": "standard"
  },
  "nbformat": 4,
  "nbformat_minor": 0
}