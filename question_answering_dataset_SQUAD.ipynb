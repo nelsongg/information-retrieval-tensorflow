{
  "cells": [
    {
      "cell_type": "markdown",
      "metadata": {
        "id": "view-in-github",
        "colab_type": "text"
      },
      "source": [
        "<a href=\"https://colab.research.google.com/github/nelsongg/information-retrieval-tensorflow/blob/main/question_answering_dataset_SQUAD.ipynb\" target=\"_parent\"><img src=\"https://colab.research.google.com/assets/colab-badge.svg\" alt=\"Open In Colab\"/></a>"
      ]
    },
    {
      "cell_type": "code",
      "execution_count": null,
      "metadata": {
        "id": "_wOID63_UqrG"
      },
      "outputs": [],
      "source": [
        "#!pip install -q tensorflow_text\n",
        "#!pip install simpleneighbors[annoy]\n",
        "#!pip install -q nltk # natural language tool kit\n",
        "#!pip install -q tqdm # to generate progress bars"
      ]
    },
    {
      "cell_type": "code",
      "execution_count": null,
      "metadata": {
        "colab": {
          "base_uri": "https://localhost:8080/"
        },
        "id": "l6UK0pqzdono",
        "outputId": "1b6b857f-8c26-4a3a-dd64-41cbcb449488"
      },
      "outputs": [
        {
          "name": "stderr",
          "output_type": "stream",
          "text": [
            "[nltk_data] Downloading package punkt to /root/nltk_data...\n",
            "[nltk_data]   Unzipping tokenizers/punkt.zip.\n"
          ]
        },
        {
          "data": {
            "text/plain": [
              "True"
            ]
          },
          "execution_count": 7,
          "metadata": {},
          "output_type": "execute_result"
        }
      ],
      "source": [
        "import json\n",
        "import nltk\n",
        "import os\n",
        "import pprint\n",
        "import random\n",
        "import simpleneighbors\n",
        "import urllib\n",
        "from IPython.display import HTML, display\n",
        "from tqdm.notebook import tqdm\n",
        "import tensorflow.compat.v2 as tf\n",
        "import tensorflow_hub as hub\n",
        "from tensorflow_text import SentencepieceTokenizer\n",
        "nltk.download('punkt')"
      ]
    },
    {
      "cell_type": "markdown",
      "metadata": {
        "id": "6y_VpKXRgmyx"
      },
      "source": [
        "SQUAD Dataset\n",
        "\n",
        "  * Documentation: https://rajpurkar.github.io/SQuAD-explorer/"
      ]
    },
    {
      "cell_type": "code",
      "execution_count": null,
      "metadata": {
        "id": "3Gbbf_oohzed"
      },
      "outputs": [],
      "source": [
        "SQUAD_url = 'https://rajpurkar.github.io/SQuAD-explorer/dataset/dev-v1.1.json'\n",
        "squad_json = json.load(urllib.request.urlopen(SQUAD_url))"
      ]
    },
    {
      "cell_type": "code",
      "execution_count": null,
      "metadata": {
        "id": "ods4ndvKgFWX"
      },
      "outputs": [],
      "source": [
        "#squad_json"
      ]
    },
    {
      "cell_type": "code",
      "execution_count": null,
      "metadata": {
        "id": "Qw8KlK86kV4h"
      },
      "outputs": [],
      "source": [
        "#nltk.tokenize.sent_tokenize('En 1874 su fama llegó al médico español Antonio Palau quien se trasladó desde la ciudad de Tucumán para conocerlas. Marchó después hasta Rosario de La Frontera a adquirir las tierras (arriendo) que pertenecían a Melchora Figueroa y Goyechea de Cornejo. El 1 de abril de 1880 Palau instaló unas sencillas carpas en las faldas del cerro del cual bajan las aguas termominerales, con éxito inmediato. A principios del siglo XX se construyó el lujoso balneario y hotel Termas, que alojó a presidentes y visitantes extranjeros, y cuyo diseño y construcción estuvieron a cargo de los notables arquitectos salmantinos Manuel y José Graña, respectivamente padre e hijo. En 1921, durante la presidencia de Hipólito Yrigoyen, el ferrocarril llegó hasta el lugar. En 1886 visitó las termas Domingo Faustino Sarmiento, ilustre escritor, militar y político argentino, expresidente de la nación argentina. Otros expresidentes que llegaron al lugar fueron Julio Argentino Roca, Nicolás Avellaneda, Raúl Alfonsín y Carlos Saúl Menem. Hotel Termas visto desde el aire. En 1904 el Agua Mineral Palau de Rosario de la Frontera obtiene el 1° Premio en la Exposición Universal de Saint Louis, EE. UU., como la mejor agua mineral del mundo. Como parte de dicha exposición se realizan los primeros Juegos Olímpicos en continente americano. A mediados del siglo XX algunos inmigrantes sijs llegaron desde la región del Panyab en India contratados por las empresas de ferrocarriles que poseían sede en Inglaterra. Ellos dieron origen a la importante población argentina con orígenes sijes que llega a ser hoy un 2% de la cantidad de habitantes de Rosario de la Frontera.')"
      ]
    },
    {
      "cell_type": "code",
      "execution_count": null,
      "metadata": {
        "id": "7rKZt1NdofgT"
      },
      "outputs": [],
      "source": [
        "from nltk.text import sent_tokenize\n",
        "def extract_sentences(squad):\n",
        "  all_sentences = []\n",
        "  for data in squad['data']:\n",
        "    for paragraph in data['paragraphs']:\n",
        "      sentences = nltk.tokenize.sent_tokenize(paragraph['context'])\n",
        "      #print(sentences)\n",
        "      all_sentences.extend(zip(sentences, [paragraph['context']] * len(sentences)))\n",
        "  return list(set(all_sentences))"
      ]
    },
    {
      "cell_type": "code",
      "execution_count": null,
      "metadata": {
        "colab": {
          "base_uri": "https://localhost:8080/"
        },
        "id": "SDDgwLZqpCg-",
        "outputId": "d32588ab-ed78-4480-d532-6bf9ce899ff1"
      },
      "outputs": [
        {
          "data": {
            "text/plain": [
              "10452"
            ]
          },
          "execution_count": 16,
          "metadata": {},
          "output_type": "execute_result"
        }
      ],
      "source": [
        "sentences = extract_sentences(squad_json)\n",
        "len(sentences)"
      ]
    },
    {
      "cell_type": "code",
      "execution_count": null,
      "metadata": {
        "id": "9qS1E50GpHV4"
      },
      "outputs": [],
      "source": [
        "#sentences[0:5] #-> we can see the sentence and its context (sentences es una lista de sets, donde cada set essta compuesto por sentence y context)"
      ]
    },
    {
      "cell_type": "code",
      "execution_count": null,
      "metadata": {
        "id": "xvRnk76utJ05"
      },
      "outputs": [],
      "source": [
        "def extract_questions_answers(squad):\n",
        "  questions_answers = []\n",
        "  for data in squad['data']:\n",
        "    for paragraph in data['paragraphs']:\n",
        "      for qas in paragraph['qas']:\n",
        "        if qas['answers']:\n",
        "          questions_answers.append((qas['question'], qas['answers'][0]['text']))\n",
        "  return list(set(questions_answers))\n"
      ]
    },
    {
      "cell_type": "code",
      "execution_count": null,
      "metadata": {
        "id": "D16YFLVvxEZf"
      },
      "outputs": [],
      "source": [
        "questions_answers = extract_questions_answers(squad_json)"
      ]
    },
    {
      "cell_type": "code",
      "execution_count": null,
      "metadata": {
        "colab": {
          "base_uri": "https://localhost:8080/"
        },
        "id": "54e7MjsdxT8C",
        "outputId": "aacb0cb7-341c-4ec7-c937-1e4e29197774"
      },
      "outputs": [
        {
          "data": {
            "text/plain": [
              "10552"
            ]
          },
          "execution_count": 23,
          "metadata": {},
          "output_type": "execute_result"
        }
      ],
      "source": [
        "len(questions_answers)"
      ]
    },
    {
      "cell_type": "code",
      "execution_count": null,
      "metadata": {
        "colab": {
          "base_uri": "https://localhost:8080/"
        },
        "id": "U4OzDl76xWHK",
        "outputId": "29cc3f8b-fd80-47f4-b73a-a081de07967e"
      },
      "outputs": [
        {
          "data": {
            "text/plain": [
              "[('What is the main executive body of the EU?', 'The European Commission'),\n",
              " ('What commonality do alternate machine models, such as random access machines, share with Turing machines?',\n",
              "  'the machines operate deterministically'),\n",
              " ('Who were the astronauts aboard the Apollo 11 mission?',\n",
              "  'Neil Armstrong, Michael Collins and Buzz Aldrin'),\n",
              " ('What are the Catechisms of Martin Luther written in?', 'German vernacular'),\n",
              " ('How many companies were listed on the WSE on August 2009?', '374'),\n",
              " ('What did the Soviets intend to use in spacecraft after the success of Zond 5?',\n",
              "  'human cosmonauts'),\n",
              " ('What runs from the riverside to higher parts of the city center?',\n",
              "  'Stairs'),\n",
              " (\"What cable provider did ABC reach an agreement with in 1993 to carry it's owned-and-operated stations in ABC O&O markets?\",\n",
              "  'Time Warner Cable'),\n",
              " ('A language solved in quadratic time implies the use of what type of Turing machine?',\n",
              "  'single-tape Turing machines'),\n",
              " ('What were the two main theories of immunity at the end of the 19th century?',\n",
              "  '\"cellular\" and \"humoral\" theories of immunity')]"
            ]
          },
          "execution_count": 24,
          "metadata": {},
          "output_type": "execute_result"
        }
      ],
      "source": [
        "questions_answers[0:10]"
      ]
    },
    {
      "cell_type": "code",
      "execution_count": null,
      "metadata": {
        "colab": {
          "base_uri": "https://localhost:8080/"
        },
        "id": "o11-jvmoxfo3",
        "outputId": "e6ae17b7-ab84-4999-8b26-7669c6109430"
      },
      "outputs": [
        {
          "name": "stdout",
          "output_type": "stream",
          "text": [
            "Sentence and Context\n",
            "\n",
            "Sentence: \n",
            "'Q stands for the Quaternary period.'\n",
            "\n",
            "Context:\n",
            "\n",
            "('The following four timelines show the geologic time scale. The first shows '\n",
            " 'the entire time from the formation of the Earth to the present, but this '\n",
            " 'compresses the most recent eon. Therefore, the second scale shows the most '\n",
            " 'recent eon with an expanded scale. The second scale compresses the most '\n",
            " 'recent era, so the most recent era is expanded in the third scale. Since the '\n",
            " 'Quaternary is a very short period with short epochs, it is further expanded '\n",
            " 'in the fourth scale. The second, third, and fourth timelines are therefore '\n",
            " 'each subsections of their preceding timeline as indicated by asterisks. The '\n",
            " 'Holocene (the latest epoch) is too small to be shown clearly on the third '\n",
            " 'timeline on the right, another reason for expanding the fourth scale. The '\n",
            " 'Pleistocene (P) epoch. Q stands for the Quaternary period.')\n",
            "\n"
          ]
        }
      ],
      "source": [
        "print('Sentence and Context\\n')\n",
        "sentence = random.choice(sentences)\n",
        "print('Sentence: ')\n",
        "pprint.pprint(sentence[0])\n",
        "print('\\nContext:\\n')\n",
        "pprint.pprint(sentence[1])\n",
        "print()"
      ]
    },
    {
      "cell_type": "markdown",
      "metadata": {
        "id": "H6S-xjUg3HGl"
      },
      "source": [
        "## Build the Index"
      ]
    },
    {
      "cell_type": "code",
      "execution_count": null,
      "metadata": {
        "id": "iSglSES_2rKc"
      },
      "outputs": [],
      "source": [
        "model_path = 'https://tfhub.dev/google/universal-sentence-encoder-multilingual-qa/3'\n",
        "model = hub.load(model_path)"
      ]
    },
    {
      "cell_type": "code",
      "execution_count": null,
      "metadata": {
        "colab": {
          "base_uri": "https://localhost:8080/",
          "height": 35
        },
        "id": "3uzcz4fA8IBw",
        "outputId": "d744323b-e7c7-4f88-a1c9-a466d2c6a12f"
      },
      "outputs": [
        {
          "data": {
            "application/vnd.google.colaboratory.intrinsic+json": {
              "type": "string"
            },
            "text/plain": [
              "'Like other national British museums, entrance to the museum has been free since 2001.'"
            ]
          },
          "execution_count": 30,
          "metadata": {},
          "output_type": "execute_result"
        }
      ],
      "source": [
        "sentences[0][0]"
      ]
    },
    {
      "cell_type": "code",
      "execution_count": null,
      "metadata": {
        "colab": {
          "base_uri": "https://localhost:8080/",
          "height": 105
        },
        "id": "8G4PC2Zu8Kcn",
        "outputId": "02a342ea-c4ca-4b7e-c009-3b38f7caf0d0"
      },
      "outputs": [
        {
          "data": {
            "application/vnd.google.colaboratory.intrinsic+json": {
              "type": "string"
            },
            "text/plain": [
              "'The Victoria and Albert Museum (often abbreviated as the V&A), London, is the world\\'s largest museum of decorative arts and design, housing a permanent collection of over 4.5 million objects. It was founded in 1852 and named after Queen Victoria and Prince Albert. The V&A is located in the Brompton district of the Royal Borough of Kensington and Chelsea, in an area that has become known as \"Albertopolis\" because of its association with Prince Albert, the Albert Memorial and the major cultural institutions with which he was associated. These include the Natural History Museum, the Science Museum and the Royal Albert Hall. The museum is a non-departmental public body sponsored by the Department for Culture, Media and Sport. Like other national British museums, entrance to the museum has been free since 2001.'"
            ]
          },
          "execution_count": 31,
          "metadata": {},
          "output_type": "execute_result"
        }
      ],
      "source": [
        "sentences[0][1]"
      ]
    },
    {
      "cell_type": "code",
      "execution_count": null,
      "metadata": {
        "colab": {
          "base_uri": "https://localhost:8080/"
        },
        "id": "WclmSZT08NtT",
        "outputId": "0b80851b-3174-437d-aed9-a9b4c1c05a6d"
      },
      "outputs": [
        {
          "data": {
            "text/plain": [
              "{'outputs': <tf.Tensor: shape=(1, 512), dtype=float32, numpy=\n",
              " array([[ 0.02583405,  0.01555862, -0.05111055, -0.05681932,  0.04022868,\n",
              "         -0.02946803, -0.01213702, -0.02858561,  0.0354651 , -0.05452089,\n",
              "          0.01888798,  0.01058078, -0.0103096 ,  0.01623675,  0.07251821,\n",
              "          0.06424652,  0.03333166,  0.01099297,  0.01701182, -0.0356503 ,\n",
              "         -0.01133491, -0.02006032,  0.00858851, -0.0201178 ,  0.0174555 ,\n",
              "          0.04908156,  0.01050661,  0.0333305 , -0.0646935 , -0.06643648,\n",
              "         -0.03217905, -0.06868497, -0.03999384,  0.03073232, -0.04177439,\n",
              "         -0.0645042 , -0.00152715,  0.01870152, -0.0477081 ,  0.03902281,\n",
              "         -0.07308477,  0.01935051,  0.03654603, -0.04118524,  0.07037194,\n",
              "         -0.00198435,  0.00253207,  0.02224534,  0.05974026,  0.02193194,\n",
              "          0.06376714, -0.03497445, -0.05021532,  0.06491258,  0.02049905,\n",
              "          0.02547506, -0.01869895,  0.03226592, -0.02413476,  0.02551622,\n",
              "         -0.0007823 , -0.06340646, -0.06956416, -0.02872421,  0.02366752,\n",
              "         -0.04375924, -0.04014233, -0.02220685,  0.02837371, -0.04514372,\n",
              "         -0.01257914, -0.07272769, -0.05087351, -0.02567735,  0.04205718,\n",
              "         -0.00358217, -0.05576568,  0.03604617, -0.04608326, -0.01034536,\n",
              "          0.06727939, -0.04709879,  0.02293631, -0.01001896,  0.03653753,\n",
              "         -0.05034359,  0.05688627,  0.0492572 , -0.00825602,  0.04325748,\n",
              "         -0.02291942,  0.06969836, -0.00567679,  0.04346488, -0.0422143 ,\n",
              "         -0.03611764, -0.03164864, -0.0614012 , -0.0561131 ,  0.07065886,\n",
              "         -0.032805  ,  0.0066948 , -0.0280133 , -0.01021912, -0.03535384,\n",
              "          0.00428506, -0.02722617, -0.04542074, -0.03465156,  0.00887263,\n",
              "          0.04744737, -0.01308871, -0.00663409,  0.0825863 ,  0.03238844,\n",
              "         -0.0593932 , -0.05125828,  0.03622422, -0.02406039,  0.03906016,\n",
              "         -0.02821672,  0.02862259, -0.03156534, -0.06620682, -0.05838924,\n",
              "         -0.04496568,  0.07991672,  0.05586533,  0.00805815,  0.02365026,\n",
              "          0.01851154,  0.05993122, -0.01342976,  0.05639435, -0.07769473,\n",
              "          0.0532543 , -0.00105903, -0.00383646, -0.03405876, -0.03389331,\n",
              "          0.0424006 ,  0.06963982,  0.02528642, -0.07583675,  0.05242287,\n",
              "          0.06551097,  0.06685977, -0.07170708,  0.0041082 , -0.0027102 ,\n",
              "          0.03023432, -0.02804254, -0.0342202 , -0.06140586,  0.01872138,\n",
              "          0.02509817,  0.06183447,  0.06706091, -0.03663342,  0.0276808 ,\n",
              "          0.06142817,  0.02662246, -0.03559168,  0.06066089,  0.01757389,\n",
              "          0.02818393, -0.03806373,  0.04729987, -0.05399783,  0.06190474,\n",
              "         -0.01321819, -0.06955467, -0.03015292,  0.03857451,  0.0352155 ,\n",
              "         -0.00682299, -0.05867396,  0.07991371,  0.05258968,  0.06388672,\n",
              "          0.02694691,  0.00187531, -0.02950519,  0.03054594,  0.0226383 ,\n",
              "          0.03527046,  0.05670854,  0.00391592, -0.04615232, -0.03098687,\n",
              "          0.04271016, -0.03795139,  0.0635294 , -0.02481984, -0.00960016,\n",
              "         -0.03176806, -0.05598181,  0.0414859 ,  0.01203933, -0.01403486,\n",
              "          0.06426349,  0.0053652 , -0.00448446,  0.05844457,  0.06997738,\n",
              "         -0.00418079, -0.03193128, -0.01275649,  0.03441996, -0.02739678,\n",
              "         -0.00594055, -0.01996084, -0.06260919, -0.07726499, -0.05491124,\n",
              "          0.04280241, -0.08519033, -0.01944469,  0.05482441, -0.01120997,\n",
              "         -0.02605489,  0.04107946,  0.04816455,  0.03910769,  0.03003187,\n",
              "         -0.03468949,  0.03683835, -0.02122908,  0.04496469,  0.03197019,\n",
              "          0.00821956,  0.05089139,  0.04300584,  0.05468203,  0.0400164 ,\n",
              "         -0.04725351, -0.03905647, -0.04930006, -0.02093281, -0.00306807,\n",
              "         -0.04229983, -0.02484516,  0.07129043, -0.01969649,  0.05223241,\n",
              "         -0.02677827,  0.03552895,  0.08016173, -0.01246284, -0.07039684,\n",
              "          0.05437316,  0.02824483, -0.05724993, -0.00983422, -0.04628019,\n",
              "         -0.06871561,  0.03072325, -0.03337741,  0.05872046, -0.06279021,\n",
              "         -0.06227179,  0.05023399,  0.04492542,  0.04563069, -0.06002339,\n",
              "          0.06825671,  0.06233068,  0.04575022,  0.04517289, -0.06096277,\n",
              "          0.00773334, -0.00029636, -0.03708521,  0.0388821 , -0.0126043 ,\n",
              "         -0.01044581, -0.06390547,  0.04322209,  0.05572682, -0.03790263,\n",
              "          0.08031937, -0.06641026, -0.00149201,  0.05771025, -0.02675966,\n",
              "         -0.02662286, -0.01994152, -0.03919236, -0.05492908,  0.06181544,\n",
              "         -0.06355739,  0.03246764,  0.02363938, -0.03467426, -0.00649197,\n",
              "         -0.0385124 ,  0.05572742, -0.03674025,  0.01571584,  0.06300095,\n",
              "         -0.02187125,  0.02993018,  0.07288282, -0.02436054,  0.00995099,\n",
              "         -0.06850428, -0.06569012,  0.01419312, -0.052358  ,  0.02181641,\n",
              "         -0.03803617, -0.07293229,  0.01518053,  0.01188445,  0.02251809,\n",
              "          0.02161264, -0.01686798, -0.06272275,  0.03035471,  0.07439209,\n",
              "          0.02241993, -0.06688219,  0.04125365,  0.06489942,  0.00610616,\n",
              "          0.01082091, -0.06813196, -0.0635934 ,  0.02777548,  0.00456281,\n",
              "         -0.02721426,  0.05044202, -0.01113676,  0.03914815, -0.02951823,\n",
              "          0.04770909, -0.01855111,  0.06347392,  0.05416969, -0.07288329,\n",
              "         -0.01484537,  0.05189544, -0.06676397,  0.0533398 ,  0.0183838 ,\n",
              "          0.01378391, -0.00549085,  0.01928376,  0.00592751, -0.02407072,\n",
              "         -0.01099129,  0.06156008, -0.0277517 , -0.02016887, -0.03110402,\n",
              "         -0.05275869,  0.03265426, -0.04094273, -0.07938576,  0.03653228,\n",
              "          0.0534376 , -0.00035565, -0.06392931, -0.00625297, -0.05920739,\n",
              "         -0.00126532, -0.04597622,  0.06235512, -0.04792074,  0.05300384,\n",
              "         -0.00278372, -0.05053853, -0.04163587, -0.05572101, -0.06032829,\n",
              "         -0.03483062, -0.07416058,  0.06976511,  0.01446951, -0.02490891,\n",
              "         -0.02062934, -0.03430642,  0.01664178,  0.02795677, -0.0075853 ,\n",
              "         -0.05675169, -0.07432733,  0.03539556, -0.05384236, -0.00541907,\n",
              "         -0.02455275,  0.00906384, -0.04466815,  0.05779245, -0.05407285,\n",
              "         -0.02757062, -0.04435436,  0.04094606, -0.04478884,  0.04113071,\n",
              "          0.08261393, -0.02019654,  0.04020308, -0.04805054, -0.00029653,\n",
              "         -0.00963167,  0.06278034, -0.03780222,  0.0681516 , -0.0700902 ,\n",
              "         -0.04897222, -0.01441988, -0.07420211, -0.01070203, -0.0494273 ,\n",
              "          0.05401177, -0.04285328,  0.0713263 , -0.02515948,  0.08510669,\n",
              "         -0.04501558,  0.0528801 , -0.05199564, -0.07471371,  0.01429394,\n",
              "         -0.02033954, -0.07498189, -0.06753152,  0.03087788,  0.01130764,\n",
              "         -0.03258522,  0.01457989,  0.04869786,  0.06075965,  0.06963069,\n",
              "          0.04291517,  0.04404993,  0.07227612, -0.04510314,  0.0692843 ,\n",
              "         -0.07062129, -0.05826747,  0.02723867,  0.02523272,  0.05005539,\n",
              "         -0.0588027 ,  0.04071235, -0.01312851,  0.00543735,  0.00257647,\n",
              "          0.06393382, -0.06096341,  0.08423206,  0.05129149, -0.01998342,\n",
              "         -0.0792744 ,  0.00393406, -0.01110427, -0.04296518,  0.02278938,\n",
              "          0.07095154,  0.0055827 , -0.07930036, -0.03792718,  0.05048595,\n",
              "         -0.00847439,  0.05661674,  0.05602991,  0.0107451 ,  0.04131303,\n",
              "          0.02379474,  0.06249285,  0.00196181,  0.03859436, -0.03472055,\n",
              "          0.07774463,  0.06329995,  0.05354581,  0.02220813, -0.01641626,\n",
              "         -0.0701272 , -0.00233801, -0.01101918, -0.05818835, -0.04146912,\n",
              "         -0.06267704, -0.04754928, -0.06283294, -0.05792466,  0.03882084,\n",
              "         -0.06236183,  0.02331433, -0.03451669,  0.02798025, -0.02646816,\n",
              "         -0.0356006 ,  0.04358828, -0.00552062, -0.00779322,  0.06232515,\n",
              "          0.02640899, -0.01142634,  0.00652487,  0.00609188,  0.0392181 ,\n",
              "         -0.00082296,  0.05568609, -0.0222749 ,  0.07164551, -0.02742361,\n",
              "         -0.02862354, -0.04864139]], dtype=float32)>}"
            ]
          },
          "execution_count": 34,
          "metadata": {},
          "output_type": "execute_result"
        }
      ],
      "source": [
        "encodings = model.signatures['response_encoder'](input=tf.constant([sentences[0][0]]), context=tf.constant([sentences[0][1]]))\n",
        "encodings"
      ]
    },
    {
      "cell_type": "code",
      "execution_count": null,
      "metadata": {
        "colab": {
          "base_uri": "https://localhost:8080/"
        },
        "id": "U4h4SaFX9F-e",
        "outputId": "76aa5d78-1b7c-4c92-faba-846dc6ab5f2b"
      },
      "outputs": [
        {
          "data": {
            "text/plain": [
              "<tf.Tensor: shape=(512,), dtype=float32, numpy=\n",
              "array([ 0.02583405,  0.01555862, -0.05111055, -0.05681932,  0.04022868,\n",
              "       -0.02946803, -0.01213702, -0.02858561,  0.0354651 , -0.05452089,\n",
              "        0.01888798,  0.01058078, -0.0103096 ,  0.01623675,  0.07251821,\n",
              "        0.06424652,  0.03333166,  0.01099297,  0.01701182, -0.0356503 ,\n",
              "       -0.01133491, -0.02006032,  0.00858851, -0.0201178 ,  0.0174555 ,\n",
              "        0.04908156,  0.01050661,  0.0333305 , -0.0646935 , -0.06643648,\n",
              "       -0.03217905, -0.06868497, -0.03999384,  0.03073232, -0.04177439,\n",
              "       -0.0645042 , -0.00152715,  0.01870152, -0.0477081 ,  0.03902281,\n",
              "       -0.07308477,  0.01935051,  0.03654603, -0.04118524,  0.07037194,\n",
              "       -0.00198435,  0.00253207,  0.02224534,  0.05974026,  0.02193194,\n",
              "        0.06376714, -0.03497445, -0.05021532,  0.06491258,  0.02049905,\n",
              "        0.02547506, -0.01869895,  0.03226592, -0.02413476,  0.02551622,\n",
              "       -0.0007823 , -0.06340646, -0.06956416, -0.02872421,  0.02366752,\n",
              "       -0.04375924, -0.04014233, -0.02220685,  0.02837371, -0.04514372,\n",
              "       -0.01257914, -0.07272769, -0.05087351, -0.02567735,  0.04205718,\n",
              "       -0.00358217, -0.05576568,  0.03604617, -0.04608326, -0.01034536,\n",
              "        0.06727939, -0.04709879,  0.02293631, -0.01001896,  0.03653753,\n",
              "       -0.05034359,  0.05688627,  0.0492572 , -0.00825602,  0.04325748,\n",
              "       -0.02291942,  0.06969836, -0.00567679,  0.04346488, -0.0422143 ,\n",
              "       -0.03611764, -0.03164864, -0.0614012 , -0.0561131 ,  0.07065886,\n",
              "       -0.032805  ,  0.0066948 , -0.0280133 , -0.01021912, -0.03535384,\n",
              "        0.00428506, -0.02722617, -0.04542074, -0.03465156,  0.00887263,\n",
              "        0.04744737, -0.01308871, -0.00663409,  0.0825863 ,  0.03238844,\n",
              "       -0.0593932 , -0.05125828,  0.03622422, -0.02406039,  0.03906016,\n",
              "       -0.02821672,  0.02862259, -0.03156534, -0.06620682, -0.05838924,\n",
              "       -0.04496568,  0.07991672,  0.05586533,  0.00805815,  0.02365026,\n",
              "        0.01851154,  0.05993122, -0.01342976,  0.05639435, -0.07769473,\n",
              "        0.0532543 , -0.00105903, -0.00383646, -0.03405876, -0.03389331,\n",
              "        0.0424006 ,  0.06963982,  0.02528642, -0.07583675,  0.05242287,\n",
              "        0.06551097,  0.06685977, -0.07170708,  0.0041082 , -0.0027102 ,\n",
              "        0.03023432, -0.02804254, -0.0342202 , -0.06140586,  0.01872138,\n",
              "        0.02509817,  0.06183447,  0.06706091, -0.03663342,  0.0276808 ,\n",
              "        0.06142817,  0.02662246, -0.03559168,  0.06066089,  0.01757389,\n",
              "        0.02818393, -0.03806373,  0.04729987, -0.05399783,  0.06190474,\n",
              "       -0.01321819, -0.06955467, -0.03015292,  0.03857451,  0.0352155 ,\n",
              "       -0.00682299, -0.05867396,  0.07991371,  0.05258968,  0.06388672,\n",
              "        0.02694691,  0.00187531, -0.02950519,  0.03054594,  0.0226383 ,\n",
              "        0.03527046,  0.05670854,  0.00391592, -0.04615232, -0.03098687,\n",
              "        0.04271016, -0.03795139,  0.0635294 , -0.02481984, -0.00960016,\n",
              "       -0.03176806, -0.05598181,  0.0414859 ,  0.01203933, -0.01403486,\n",
              "        0.06426349,  0.0053652 , -0.00448446,  0.05844457,  0.06997738,\n",
              "       -0.00418079, -0.03193128, -0.01275649,  0.03441996, -0.02739678,\n",
              "       -0.00594055, -0.01996084, -0.06260919, -0.07726499, -0.05491124,\n",
              "        0.04280241, -0.08519033, -0.01944469,  0.05482441, -0.01120997,\n",
              "       -0.02605489,  0.04107946,  0.04816455,  0.03910769,  0.03003187,\n",
              "       -0.03468949,  0.03683835, -0.02122908,  0.04496469,  0.03197019,\n",
              "        0.00821956,  0.05089139,  0.04300584,  0.05468203,  0.0400164 ,\n",
              "       -0.04725351, -0.03905647, -0.04930006, -0.02093281, -0.00306807,\n",
              "       -0.04229983, -0.02484516,  0.07129043, -0.01969649,  0.05223241,\n",
              "       -0.02677827,  0.03552895,  0.08016173, -0.01246284, -0.07039684,\n",
              "        0.05437316,  0.02824483, -0.05724993, -0.00983422, -0.04628019,\n",
              "       -0.06871561,  0.03072325, -0.03337741,  0.05872046, -0.06279021,\n",
              "       -0.06227179,  0.05023399,  0.04492542,  0.04563069, -0.06002339,\n",
              "        0.06825671,  0.06233068,  0.04575022,  0.04517289, -0.06096277,\n",
              "        0.00773334, -0.00029636, -0.03708521,  0.0388821 , -0.0126043 ,\n",
              "       -0.01044581, -0.06390547,  0.04322209,  0.05572682, -0.03790263,\n",
              "        0.08031937, -0.06641026, -0.00149201,  0.05771025, -0.02675966,\n",
              "       -0.02662286, -0.01994152, -0.03919236, -0.05492908,  0.06181544,\n",
              "       -0.06355739,  0.03246764,  0.02363938, -0.03467426, -0.00649197,\n",
              "       -0.0385124 ,  0.05572742, -0.03674025,  0.01571584,  0.06300095,\n",
              "       -0.02187125,  0.02993018,  0.07288282, -0.02436054,  0.00995099,\n",
              "       -0.06850428, -0.06569012,  0.01419312, -0.052358  ,  0.02181641,\n",
              "       -0.03803617, -0.07293229,  0.01518053,  0.01188445,  0.02251809,\n",
              "        0.02161264, -0.01686798, -0.06272275,  0.03035471,  0.07439209,\n",
              "        0.02241993, -0.06688219,  0.04125365,  0.06489942,  0.00610616,\n",
              "        0.01082091, -0.06813196, -0.0635934 ,  0.02777548,  0.00456281,\n",
              "       -0.02721426,  0.05044202, -0.01113676,  0.03914815, -0.02951823,\n",
              "        0.04770909, -0.01855111,  0.06347392,  0.05416969, -0.07288329,\n",
              "       -0.01484537,  0.05189544, -0.06676397,  0.0533398 ,  0.0183838 ,\n",
              "        0.01378391, -0.00549085,  0.01928376,  0.00592751, -0.02407072,\n",
              "       -0.01099129,  0.06156008, -0.0277517 , -0.02016887, -0.03110402,\n",
              "       -0.05275869,  0.03265426, -0.04094273, -0.07938576,  0.03653228,\n",
              "        0.0534376 , -0.00035565, -0.06392931, -0.00625297, -0.05920739,\n",
              "       -0.00126532, -0.04597622,  0.06235512, -0.04792074,  0.05300384,\n",
              "       -0.00278372, -0.05053853, -0.04163587, -0.05572101, -0.06032829,\n",
              "       -0.03483062, -0.07416058,  0.06976511,  0.01446951, -0.02490891,\n",
              "       -0.02062934, -0.03430642,  0.01664178,  0.02795677, -0.0075853 ,\n",
              "       -0.05675169, -0.07432733,  0.03539556, -0.05384236, -0.00541907,\n",
              "       -0.02455275,  0.00906384, -0.04466815,  0.05779245, -0.05407285,\n",
              "       -0.02757062, -0.04435436,  0.04094606, -0.04478884,  0.04113071,\n",
              "        0.08261393, -0.02019654,  0.04020308, -0.04805054, -0.00029653,\n",
              "       -0.00963167,  0.06278034, -0.03780222,  0.0681516 , -0.0700902 ,\n",
              "       -0.04897222, -0.01441988, -0.07420211, -0.01070203, -0.0494273 ,\n",
              "        0.05401177, -0.04285328,  0.0713263 , -0.02515948,  0.08510669,\n",
              "       -0.04501558,  0.0528801 , -0.05199564, -0.07471371,  0.01429394,\n",
              "       -0.02033954, -0.07498189, -0.06753152,  0.03087788,  0.01130764,\n",
              "       -0.03258522,  0.01457989,  0.04869786,  0.06075965,  0.06963069,\n",
              "        0.04291517,  0.04404993,  0.07227612, -0.04510314,  0.0692843 ,\n",
              "       -0.07062129, -0.05826747,  0.02723867,  0.02523272,  0.05005539,\n",
              "       -0.0588027 ,  0.04071235, -0.01312851,  0.00543735,  0.00257647,\n",
              "        0.06393382, -0.06096341,  0.08423206,  0.05129149, -0.01998342,\n",
              "       -0.0792744 ,  0.00393406, -0.01110427, -0.04296518,  0.02278938,\n",
              "        0.07095154,  0.0055827 , -0.07930036, -0.03792718,  0.05048595,\n",
              "       -0.00847439,  0.05661674,  0.05602991,  0.0107451 ,  0.04131303,\n",
              "        0.02379474,  0.06249285,  0.00196181,  0.03859436, -0.03472055,\n",
              "        0.07774463,  0.06329995,  0.05354581,  0.02220813, -0.01641626,\n",
              "       -0.0701272 , -0.00233801, -0.01101918, -0.05818835, -0.04146912,\n",
              "       -0.06267704, -0.04754928, -0.06283294, -0.05792466,  0.03882084,\n",
              "       -0.06236183,  0.02331433, -0.03451669,  0.02798025, -0.02646816,\n",
              "       -0.0356006 ,  0.04358828, -0.00552062, -0.00779322,  0.06232515,\n",
              "        0.02640899, -0.01142634,  0.00652487,  0.00609188,  0.0392181 ,\n",
              "       -0.00082296,  0.05568609, -0.0222749 ,  0.07164551, -0.02742361,\n",
              "       -0.02862354, -0.04864139], dtype=float32)>"
            ]
          },
          "execution_count": 36,
          "metadata": {},
          "output_type": "execute_result"
        }
      ],
      "source": [
        "encodings['outputs'][0]"
      ]
    },
    {
      "cell_type": "code",
      "execution_count": null,
      "metadata": {
        "colab": {
          "base_uri": "https://localhost:8080/"
        },
        "id": "RhAM9z9X-tJY",
        "outputId": "8dfb359a-0e3d-4404-c135-b26f8089f5d5"
      },
      "outputs": [
        {
          "data": {
            "text/plain": [
              "512"
            ]
          },
          "execution_count": 37,
          "metadata": {},
          "output_type": "execute_result"
        }
      ],
      "source": [
        "len(encodings['outputs'][0])"
      ]
    },
    {
      "cell_type": "code",
      "execution_count": null,
      "metadata": {
        "id": "R8DC2lP4-01V"
      },
      "outputs": [],
      "source": [
        "index = simpleneighbors.SimpleNeighbors(len(encodings['outputs'][0]), metric='angular')"
      ]
    },
    {
      "cell_type": "code",
      "execution_count": null,
      "metadata": {
        "colab": {
          "base_uri": "https://localhost:8080/"
        },
        "id": "R_oG9xao_za8",
        "outputId": "2996dfb2-eb52-4983-ce95-ee4d623fc513"
      },
      "outputs": [
        {
          "data": {
            "text/plain": [
              "104"
            ]
          },
          "execution_count": 41,
          "metadata": {},
          "output_type": "execute_result"
        }
      ],
      "source": [
        "batch_size = 100\n",
        "slices = zip(*(iter(sentences),) * batch_size)\n",
        "num_batches = int(len(sentences) / batch_size)\n",
        "num_batches"
      ]
    },
    {
      "cell_type": "code",
      "execution_count": null,
      "metadata": {
        "colab": {
          "background_save": true,
          "base_uri": "https://localhost:8080/",
          "height": 49,
          "referenced_widgets": [
            "633af6e29fed4f97bef811fae0f01807",
            "04f043b892bc4786a323cea14be7cacd",
            "c304bb42d1d64b5ebb65b787f86291ec",
            "ae500846ff2d4b37b3ce1982625aff2c",
            "dc19f1b55b3f457294d58362bc6ea445",
            "c655125c7da240a88b93cf93fd46c118",
            "5ad25ffc95ff4cfda3748d1da65b9e41",
            "29fc9e385c94491899e27e71a9b78116",
            "8cc70cf57d0a4bada86663b1136a47ef",
            "110a517200374931b19dad74e4684193",
            "042dc1ec234847719802713059b6ca61"
          ]
        },
        "id": "i-qMKYfcAz3y",
        "outputId": "d277c1bc-1bdd-45cf-f4f5-d78b50568968"
      },
      "outputs": [
        {
          "data": {
            "application/vnd.jupyter.widget-view+json": {
              "model_id": "633af6e29fed4f97bef811fae0f01807",
              "version_major": 2,
              "version_minor": 0
            },
            "text/plain": [
              "  0%|          | 0/104 [00:00<?, ?it/s]"
            ]
          },
          "metadata": {},
          "output_type": "display_data"
        }
      ],
      "source": [
        "for s in tqdm(slices, total=num_batches):\n",
        "  sentence_batch = list([r for r, c in s])\n",
        "  context_batch = list([c for r, c in s])\n",
        "  encodings = model.signatures['response_encoder'](input=tf.constant(sentence_batch), context=tf.constant(context_batch))\n",
        "  for batch_index, batch in enumerate(sentence_batch):\n",
        "    index.add_one(batch, encodings['outputs'][batch_index])\n",
        "index.build()"
      ]
    },
    {
      "cell_type": "code",
      "execution_count": null,
      "metadata": {
        "id": "WY8U5qIHDM7a"
      },
      "outputs": [],
      "source": []
    }
  ],
  "metadata": {
    "colab": {
      "provenance": [],
      "authorship_tag": "ABX9TyNWDbbRsVA4ZAAawJQv0bJo",
      "include_colab_link": true
    },
    "kernelspec": {
      "display_name": "Python 3",
      "name": "python3"
    },
    "language_info": {
      "name": "python"
    },
    "widgets": {
      "application/vnd.jupyter.widget-state+json": {
        "042dc1ec234847719802713059b6ca61": {
          "model_module": "@jupyter-widgets/controls",
          "model_module_version": "1.5.0",
          "model_name": "DescriptionStyleModel",
          "state": {
            "_model_module": "@jupyter-widgets/controls",
            "_model_module_version": "1.5.0",
            "_model_name": "DescriptionStyleModel",
            "_view_count": null,
            "_view_module": "@jupyter-widgets/base",
            "_view_module_version": "1.2.0",
            "_view_name": "StyleView",
            "description_width": ""
          }
        },
        "04f043b892bc4786a323cea14be7cacd": {
          "model_module": "@jupyter-widgets/controls",
          "model_module_version": "1.5.0",
          "model_name": "HTMLModel",
          "state": {
            "_dom_classes": [],
            "_model_module": "@jupyter-widgets/controls",
            "_model_module_version": "1.5.0",
            "_model_name": "HTMLModel",
            "_view_count": null,
            "_view_module": "@jupyter-widgets/controls",
            "_view_module_version": "1.5.0",
            "_view_name": "HTMLView",
            "description": "",
            "description_tooltip": null,
            "layout": "IPY_MODEL_c655125c7da240a88b93cf93fd46c118",
            "placeholder": "​",
            "style": "IPY_MODEL_5ad25ffc95ff4cfda3748d1da65b9e41",
            "value": "  1%"
          }
        },
        "110a517200374931b19dad74e4684193": {
          "model_module": "@jupyter-widgets/base",
          "model_module_version": "1.2.0",
          "model_name": "LayoutModel",
          "state": {
            "_model_module": "@jupyter-widgets/base",
            "_model_module_version": "1.2.0",
            "_model_name": "LayoutModel",
            "_view_count": null,
            "_view_module": "@jupyter-widgets/base",
            "_view_module_version": "1.2.0",
            "_view_name": "LayoutView",
            "align_content": null,
            "align_items": null,
            "align_self": null,
            "border": null,
            "bottom": null,
            "display": null,
            "flex": null,
            "flex_flow": null,
            "grid_area": null,
            "grid_auto_columns": null,
            "grid_auto_flow": null,
            "grid_auto_rows": null,
            "grid_column": null,
            "grid_gap": null,
            "grid_row": null,
            "grid_template_areas": null,
            "grid_template_columns": null,
            "grid_template_rows": null,
            "height": null,
            "justify_content": null,
            "justify_items": null,
            "left": null,
            "margin": null,
            "max_height": null,
            "max_width": null,
            "min_height": null,
            "min_width": null,
            "object_fit": null,
            "object_position": null,
            "order": null,
            "overflow": null,
            "overflow_x": null,
            "overflow_y": null,
            "padding": null,
            "right": null,
            "top": null,
            "visibility": null,
            "width": null
          }
        },
        "29fc9e385c94491899e27e71a9b78116": {
          "model_module": "@jupyter-widgets/base",
          "model_module_version": "1.2.0",
          "model_name": "LayoutModel",
          "state": {
            "_model_module": "@jupyter-widgets/base",
            "_model_module_version": "1.2.0",
            "_model_name": "LayoutModel",
            "_view_count": null,
            "_view_module": "@jupyter-widgets/base",
            "_view_module_version": "1.2.0",
            "_view_name": "LayoutView",
            "align_content": null,
            "align_items": null,
            "align_self": null,
            "border": null,
            "bottom": null,
            "display": null,
            "flex": null,
            "flex_flow": null,
            "grid_area": null,
            "grid_auto_columns": null,
            "grid_auto_flow": null,
            "grid_auto_rows": null,
            "grid_column": null,
            "grid_gap": null,
            "grid_row": null,
            "grid_template_areas": null,
            "grid_template_columns": null,
            "grid_template_rows": null,
            "height": null,
            "justify_content": null,
            "justify_items": null,
            "left": null,
            "margin": null,
            "max_height": null,
            "max_width": null,
            "min_height": null,
            "min_width": null,
            "object_fit": null,
            "object_position": null,
            "order": null,
            "overflow": null,
            "overflow_x": null,
            "overflow_y": null,
            "padding": null,
            "right": null,
            "top": null,
            "visibility": null,
            "width": null
          }
        },
        "5ad25ffc95ff4cfda3748d1da65b9e41": {
          "model_module": "@jupyter-widgets/controls",
          "model_module_version": "1.5.0",
          "model_name": "DescriptionStyleModel",
          "state": {
            "_model_module": "@jupyter-widgets/controls",
            "_model_module_version": "1.5.0",
            "_model_name": "DescriptionStyleModel",
            "_view_count": null,
            "_view_module": "@jupyter-widgets/base",
            "_view_module_version": "1.2.0",
            "_view_name": "StyleView",
            "description_width": ""
          }
        },
        "633af6e29fed4f97bef811fae0f01807": {
          "model_module": "@jupyter-widgets/controls",
          "model_module_version": "1.5.0",
          "model_name": "HBoxModel",
          "state": {
            "_dom_classes": [],
            "_model_module": "@jupyter-widgets/controls",
            "_model_module_version": "1.5.0",
            "_model_name": "HBoxModel",
            "_view_count": null,
            "_view_module": "@jupyter-widgets/controls",
            "_view_module_version": "1.5.0",
            "_view_name": "HBoxView",
            "box_style": "",
            "children": [
              "IPY_MODEL_04f043b892bc4786a323cea14be7cacd",
              "IPY_MODEL_c304bb42d1d64b5ebb65b787f86291ec",
              "IPY_MODEL_ae500846ff2d4b37b3ce1982625aff2c"
            ],
            "layout": "IPY_MODEL_dc19f1b55b3f457294d58362bc6ea445"
          }
        },
        "8cc70cf57d0a4bada86663b1136a47ef": {
          "model_module": "@jupyter-widgets/controls",
          "model_module_version": "1.5.0",
          "model_name": "ProgressStyleModel",
          "state": {
            "_model_module": "@jupyter-widgets/controls",
            "_model_module_version": "1.5.0",
            "_model_name": "ProgressStyleModel",
            "_view_count": null,
            "_view_module": "@jupyter-widgets/base",
            "_view_module_version": "1.2.0",
            "_view_name": "StyleView",
            "bar_color": null,
            "description_width": ""
          }
        },
        "ae500846ff2d4b37b3ce1982625aff2c": {
          "model_module": "@jupyter-widgets/controls",
          "model_module_version": "1.5.0",
          "model_name": "HTMLModel",
          "state": {
            "_dom_classes": [],
            "_model_module": "@jupyter-widgets/controls",
            "_model_module_version": "1.5.0",
            "_model_name": "HTMLModel",
            "_view_count": null,
            "_view_module": "@jupyter-widgets/controls",
            "_view_module_version": "1.5.0",
            "_view_name": "HTMLView",
            "description": "",
            "description_tooltip": null,
            "layout": "IPY_MODEL_110a517200374931b19dad74e4684193",
            "placeholder": "​",
            "style": "IPY_MODEL_042dc1ec234847719802713059b6ca61",
            "value": " 1/104 [00:18&lt;30:58, 18.04s/it]"
          }
        },
        "c304bb42d1d64b5ebb65b787f86291ec": {
          "model_module": "@jupyter-widgets/controls",
          "model_module_version": "1.5.0",
          "model_name": "FloatProgressModel",
          "state": {
            "_dom_classes": [],
            "_model_module": "@jupyter-widgets/controls",
            "_model_module_version": "1.5.0",
            "_model_name": "FloatProgressModel",
            "_view_count": null,
            "_view_module": "@jupyter-widgets/controls",
            "_view_module_version": "1.5.0",
            "_view_name": "ProgressView",
            "bar_style": "",
            "description": "",
            "description_tooltip": null,
            "layout": "IPY_MODEL_29fc9e385c94491899e27e71a9b78116",
            "max": 104,
            "min": 0,
            "orientation": "horizontal",
            "style": "IPY_MODEL_8cc70cf57d0a4bada86663b1136a47ef",
            "value": 1
          }
        },
        "c655125c7da240a88b93cf93fd46c118": {
          "model_module": "@jupyter-widgets/base",
          "model_module_version": "1.2.0",
          "model_name": "LayoutModel",
          "state": {
            "_model_module": "@jupyter-widgets/base",
            "_model_module_version": "1.2.0",
            "_model_name": "LayoutModel",
            "_view_count": null,
            "_view_module": "@jupyter-widgets/base",
            "_view_module_version": "1.2.0",
            "_view_name": "LayoutView",
            "align_content": null,
            "align_items": null,
            "align_self": null,
            "border": null,
            "bottom": null,
            "display": null,
            "flex": null,
            "flex_flow": null,
            "grid_area": null,
            "grid_auto_columns": null,
            "grid_auto_flow": null,
            "grid_auto_rows": null,
            "grid_column": null,
            "grid_gap": null,
            "grid_row": null,
            "grid_template_areas": null,
            "grid_template_columns": null,
            "grid_template_rows": null,
            "height": null,
            "justify_content": null,
            "justify_items": null,
            "left": null,
            "margin": null,
            "max_height": null,
            "max_width": null,
            "min_height": null,
            "min_width": null,
            "object_fit": null,
            "object_position": null,
            "order": null,
            "overflow": null,
            "overflow_x": null,
            "overflow_y": null,
            "padding": null,
            "right": null,
            "top": null,
            "visibility": null,
            "width": null
          }
        },
        "dc19f1b55b3f457294d58362bc6ea445": {
          "model_module": "@jupyter-widgets/base",
          "model_module_version": "1.2.0",
          "model_name": "LayoutModel",
          "state": {
            "_model_module": "@jupyter-widgets/base",
            "_model_module_version": "1.2.0",
            "_model_name": "LayoutModel",
            "_view_count": null,
            "_view_module": "@jupyter-widgets/base",
            "_view_module_version": "1.2.0",
            "_view_name": "LayoutView",
            "align_content": null,
            "align_items": null,
            "align_self": null,
            "border": null,
            "bottom": null,
            "display": null,
            "flex": null,
            "flex_flow": null,
            "grid_area": null,
            "grid_auto_columns": null,
            "grid_auto_flow": null,
            "grid_auto_rows": null,
            "grid_column": null,
            "grid_gap": null,
            "grid_row": null,
            "grid_template_areas": null,
            "grid_template_columns": null,
            "grid_template_rows": null,
            "height": null,
            "justify_content": null,
            "justify_items": null,
            "left": null,
            "margin": null,
            "max_height": null,
            "max_width": null,
            "min_height": null,
            "min_width": null,
            "object_fit": null,
            "object_position": null,
            "order": null,
            "overflow": null,
            "overflow_x": null,
            "overflow_y": null,
            "padding": null,
            "right": null,
            "top": null,
            "visibility": null,
            "width": null
          }
        }
      }
    }
  },
  "nbformat": 4,
  "nbformat_minor": 0
}